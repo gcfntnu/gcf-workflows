{
 "cells": [
  {
   "cell_type": "code",
   "execution_count": 2,
   "metadata": {},
   "outputs": [],
   "source": [
    "options(repr.plot.width = 8, repr.plot.height = 6, repr.plot.res = 300)\n",
    "dir.create(snakemake@output[[1]], showWarnings = FALSE, recursive = TRUE, mode = \"0777\") "
   ]
  },
  {
   "cell_type": "code",
   "execution_count": 3,
   "metadata": {},
   "outputs": [],
   "source": [
    "suppressPackageStartupMessages({\n",
    "    library(EDASeq)\n",
    "    library(ggplot2)\n",
    "    library(tximeta)\n",
    "    library(tximport)\n",
    "    library(DESeq2)\n",
    "    library(pheatmap)\n",
    "    library(RColorBrewer)\n",
    "    library(magrittr) \n",
    "    library(tidyverse)\n",
    "    library(HTSFilter)\n",
    "    library(PCAtools)\n",
    "    library(pheatmap)\n",
    "    library(stringr)\n",
    "    library(EnhancedVolcano)\n",
    "    library(ggpubr)\n",
    "    library(ggplotify)\n",
    "    library(patchwork)\n",
    "}\n",
    ")"
   ]
  },
  {
   "cell_type": "code",
   "execution_count": null,
   "metadata": {},
   "outputs": [],
   "source": []
  },
  {
   "cell_type": "code",
   "execution_count": 4,
   "metadata": {},
   "outputs": [],
   "source": [
    "txi <- readRDS(snakemake@input$rds2)\n",
    "gse <- summarizeToGene(txi)\n",
    "samples <- colData(gse)\n",
    "gene_info <- rowData(gse)\n",
    "keep.samples <- samples$Sample_Group != \"Hypoxia_48h_Reoxy_2h\"\n",
    "gse <- gse[,keep.samples]\n",
    "samples <- colData(gse)\n",
    "#keep.genes <- (gene_info$gene_biotype == \"protein_coding\") & str_starts(gene_info$gene_name, \"MT-\", negate=TRUE)\n",
    "keep.genes <- (gene_info$gene_biotype == \"protein_coding\")\n",
    "gse <- gse[keep.genes,]\n",
    "gene_info <- rowData(gse)\n",
    "gse\n",
    "\n"
   ]
  },
  {
   "cell_type": "code",
   "execution_count": 5,
   "metadata": {},
   "outputs": [],
   "source": [
    "samples$Sample_Group <- factor(samples$Sample_Group)\n",
    "samples$Sample_Group <- relevel(samples$Sample_Group, ref=\"Normoxia_48h\")\n",
    "colData(gse) <- samples"
   ]
  },
  {
   "cell_type": "code",
   "execution_count": null,
   "metadata": {},
   "outputs": [],
   "source": [
    "\n"
   ]
  },
  {
   "cell_type": "markdown",
   "metadata": {},
   "outputs": [],
   "source": [
    "**Filter expression data**"
   ]
  },
  {
   "cell_type": "code",
   "execution_count": 13,
   "metadata": {},
   "outputs": [],
   "source": [
    "filter <- HTSFilter(assay(gse, \"counts\"), samples$Sample_Group, s.min=5, s.max=20, s.len=100)\n"
   ]
  },
  {
   "cell_type": "code",
   "execution_count": 14,
   "metadata": {},
   "outputs": [],
   "source": [
    "hist(log(filter$filteredData+1), col=\"grey\", breaks=25, main=\"\", xlab=\"Log(counts+1)\")"
   ]
  },
  {
   "cell_type": "code",
   "execution_count": 15,
   "metadata": {},
   "outputs": [],
   "source": [
    "dim(filter$filteredData)"
   ]
  },
  {
   "cell_type": "code",
   "execution_count": 16,
   "metadata": {},
   "outputs": [],
   "source": [
    "gse <- gse[rownames(filter$filteredData),]"
   ]
  },
  {
   "cell_type": "code",
   "execution_count": 17,
   "metadata": {},
   "outputs": [],
   "source": [
    "dds <- DESeq2::DESeqDataSet(gse, design= ~1 + Sample_Group)\n",
    "dds <- DESeq(dds)\n",
    "vsn <- rlog(dds, blind=TRUE)"
   ]
  },
  {
   "cell_type": "code",
   "execution_count": null,
   "metadata": {},
   "outputs": [],
   "source": []
  },
  {
   "cell_type": "code",
   "execution_count": 18,
   "metadata": {},
   "outputs": [],
   "source": [
    "pcamod <- pca(assay(vsn), metadata = samples, removeVar = 0.1)"
   ]
  },
  {
   "cell_type": "code",
   "execution_count": 19,
   "metadata": {},
   "outputs": [],
   "source": [
    "pp <- screeplot(pcamod, axisLabSize = 18, titleLabSize = 22)\n",
    "pp"
   ]
  },
  {
   "cell_type": "code",
   "execution_count": 20,
   "metadata": {},
   "outputs": [],
   "source": [
    "p0 <- biplot(pcamod,\n",
    "    colby = 'Sample_Group',\n",
    "    colLegendTitle = '',\n",
    "    # encircle config\n",
    "      encircle = TRUE,\n",
    "      encircleFill = TRUE,\n",
    "    hline = 0, vline = 0,\n",
    "    legendPosition = 'top', legendLabSize = 16, legendIconSize = 8.0)\n",
    "p0\n",
    "ggsave(file.path(snakemake@output[[1]], \"pca0.pdf\"))"
   ]
  },
  {
   "cell_type": "code",
   "execution_count": null,
   "metadata": {},
   "outputs": [],
   "source": []
  },
  {
   "cell_type": "code",
   "execution_count": 21,
   "metadata": {},
   "outputs": [],
   "source": [
    "p.pca <- biplot(pcamod,\n",
    "    lab = NULL,\n",
    "    colby = 'Sample_Group',\n",
    "    hline = 0, vline = 0,\n",
    "    gridlines.major = TRUE, gridlines.minor = FALSE,\n",
    "    pointSize = 5,\n",
    "    legendPosition = 'top', legendLabSize = 10, legendIconSize = 6.0,\n",
    "    drawConnectors = FALSE,\n",
    "    title = 'PCA')\n",
    "p.pca\n",
    "ggsave(file.path(snakemake@output[[1]], \"pca1.pdf\"))"
   ]
  },
  {
   "cell_type": "code",
   "execution_count": null,
   "metadata": {},
   "outputs": [],
   "source": []
  },
  {
   "cell_type": "code",
   "execution_count": 22,
   "metadata": {},
   "outputs": [],
   "source": [
    "sampleDists <- dist( t( assay(vsn) ) )\n",
    "sampleDistMatrix <- as.matrix( sampleDists )\n",
    "rownames(sampleDistMatrix) <- samples$Sample_ID\n",
    "colnames(sampleDistMatrix) <- NULL\n",
    "colors <- colorRampPalette( rev(brewer.pal(9, \"Blues\")) )(255)"
   ]
  },
  {
   "cell_type": "code",
   "execution_count": 23,
   "metadata": {},
   "outputs": [],
   "source": [
    "p.heat <- heatmap(sampleDistMatrix,clustering_distance_rows=sampleDists,clustering_distance_cols=sampleDists,col=colors)\n",
    "#ggsave(file.path(snakemake@output[[1]], \"pca1.pdf\"))"
   ]
  },
  {
   "cell_type": "code",
   "execution_count": 24,
   "metadata": {},
   "outputs": [],
   "source": [
    "res <- results(dds, independentFiltering=FALSE)\n",
    "res"
   ]
  },
  {
   "cell_type": "code",
   "execution_count": 25,
   "metadata": {},
   "outputs": [],
   "source": [
    "A <- cbind(as.data.frame(res), gene_info[rownames(res),])\n",
    "A <- A[!is.na(A$padj),]\n",
    "res <- res[rownames(A),]"
   ]
  },
  {
   "cell_type": "code",
   "execution_count": 26,
   "metadata": {},
   "outputs": [],
   "source": [
    "# remove mt-genes\n",
    "keep.a <- str_starts(A$gene_name, \"MT-\", negate=TRUE)\n",
    "A <- A[keep.a, ]\n",
    "res <- res[rownames(A),]"
   ]
  },
  {
   "cell_type": "code",
   "execution_count": 27,
   "metadata": {},
   "outputs": [],
   "source": [
    "p.volcano <- EnhancedVolcano(res,\n",
    "    lab = A$gene_name,\n",
    "    subtitle='',                  \n",
    "    x = 'log2FoldChange',\n",
    "    y = 'padj',\n",
    "    xlab = bquote(~Log[2]~ 'fold change'),\n",
    "    pCutoff = 10e-20,\n",
    "    FCcutoff = 2,\n",
    "    pointSize = 2.0,\n",
    "    labSize = 3.0,\n",
    "    labCol = 'black',\n",
    "    labFace = 'bold',\n",
    "    boxedLabels = TRUE,\n",
    "    colAlpha = 4/5,\n",
    "    legendPosition = 'right',\n",
    "    legendLabSize = 8,\n",
    "    legendIconSize = 2.0,\n",
    "    drawConnectors = TRUE,\n",
    "    widthConnectors = 1.0,\n",
    "                            col=c('black', 'darkgreen', 'darkgreen', 'red3'), \n",
    "    colConnectors = 'black',\n",
    "                      gridlines.minor = FALSE,\n",
    "                     caption='')\n",
    "p.volcano\n",
    "ggsave(file.path(snakemake@output[[1]], \"volcano.pdf\"))"
   ]
  },
  {
   "cell_type": "code",
   "execution_count": 28,
   "metadata": {},
   "outputs": [],
   "source": [
    "m <- \"ENSG00000162946\"\n",
    "A[m,]"
   ]
  },
  {
   "cell_type": "code",
   "execution_count": 29,
   "metadata": {},
   "outputs": [],
   "source": [
    "keep <- (A$padj < 1E-10) & (abs(A$log2FoldChange) > 2)\n",
    "keep.names <- rownames(A)[keep]\n"
   ]
  },
  {
   "cell_type": "code",
   "execution_count": null,
   "metadata": {},
   "outputs": [],
   "source": []
  },
  {
   "cell_type": "code",
   "execution_count": 30,
   "metadata": {},
   "outputs": [],
   "source": [
    "mat <- assay(vsn)[keep.names,]\n",
    "#mat <- mat - rowMeans(mat)\n",
    "rownames(mat) <- A[keep.names, \"gene_name\"]\n",
    "dim(mat)"
   ]
  },
  {
   "cell_type": "code",
   "execution_count": 31,
   "metadata": {},
   "outputs": [],
   "source": [
    "group <- samples[,c(\"Sample_Group\", \"Sample_ID\")]\n",
    "df <- as.data.frame(group)\n",
    "anno <- df[,c(\"Sample_Group\"), drop=FALSE]"
   ]
  },
  {
   "cell_type": "code",
   "execution_count": 32,
   "metadata": {},
   "outputs": [],
   "source": [
    "#levels(anno$Sample_Group) <- rev(levels(anno$Sample_Group))"
   ]
  },
  {
   "cell_type": "code",
   "execution_count": 33,
   "metadata": {},
   "outputs": [],
   "source": [
    "p.heat2 <- as.ggplot(pheatmap(mat, scale=\"row\", annotation=anno, annotation_colors = list(Sample_Group=c(Normoxia_48h=\"#F8766D\", Hypoxia_48h=\"#00BFC4\")), fontsize_row=7, show_colnames=FALSE, cutree_cols=2, treeheight_row=0, main=\"Heatmap, rlog expression values\\n\", annotation_legend = TRUE))\n",
    "ggsave(file.path(snakemake@output[[1]], \"heatmap.pdf\"))"
   ]
  },
  {
   "cell_type": "code",
   "execution_count": 34,
   "metadata": {},
   "outputs": [],
   "source": [
    "cc <- plotCounts(dds, gene=m, intgroup = \"Sample_Group\", returnData=TRUE)"
   ]
  },
  {
   "cell_type": "code",
   "execution_count": 35,
   "metadata": {},
   "outputs": [],
   "source": [
    "p.box <- ggboxplot(cc, x = \"Sample_Group\", y = \"count\",\n",
    "                color = \"Sample_Group\", width=0.5,\n",
    "                add = \"jitter\", xlab='', ylab=\"normalized count\", title=\"DISC1\")\n",
    "p.box <- ggpar(p.box, legend=\"right\")\n",
    "p.box\n",
    "ggsave(file.path(snakemake@output[[1]], \"boxplot_disc1.pdf\"))"
   ]
  },
  {
   "cell_type": "code",
   "execution_count": 36,
   "metadata": {},
   "outputs": [],
   "source": [
    "(p.pca+p.volcano)/(as.ggplot(p.heat2) + p.box)"
   ]
  },
  {
   "cell_type": "code",
   "execution_count": 37,
   "metadata": {},
   "outputs": [],
   "source": [
    "head(A)"
   ]
  },
  {
   "cell_type": "code",
   "execution_count": 38,
   "metadata": {},
   "outputs": [],
   "source": [
    "fn <- file.path(snakemake@output[[1]], \"Hypoxia_vs_Normoxia.txt\")\n",
    "A <- relocate(A, \"gene_id\")\n",
    "keep.cols <- c(\"gene_id\", \"gene_name\", \"baseMean\", \"log2FoldChange\", \"padj\")\n",
    "\n",
    "write.table(A, file=fn, quote=FALSE, sep=\"\\t\", row.names=FALSE)"
   ]
  },
  {
   "cell_type": "code",
   "execution_count": 39,
   "metadata": {},
   "outputs": [],
   "source": [
    "keep.cols <- c(\"gene_id\", \"gene_name\", \"baseMean\", \"log2FoldChange\", \"padj\")\n",
    "A <- A[,keep.cols]"
   ]
  },
  {
   "cell_type": "code",
   "execution_count": 40,
   "metadata": {},
   "outputs": [],
   "source": [
    "write.table(A, file=fn, quote=FALSE, sep=\"\\t\", row.names=FALSE)"
   ]
  },
  {
   "cell_type": "code",
   "execution_count": 41,
   "metadata": {},
   "outputs": [],
   "source": [
    "A"
   ]
  },
  {
   "cell_type": "code",
   "execution_count": 42,
   "metadata": {},
   "outputs": [],
   "source": [
    "A[m,]"
   ]
  },
  {
   "cell_type": "code",
   "execution_count": 35,
   "metadata": {},
   "outputs": [],
   "source": []
  },
  {
   "cell_type": "code",
   "execution_count": null,
   "metadata": {},
   "outputs": [],
   "source": []
  }
 ],
 "metadata": {
  "kernelspec": {
   "display_name": "R",
   "language": "R",
   "name": "ir"
  },
  "language_info": {
   "codemirror_mode": "r",
   "file_extension": ".r",
   "mimetype": "text/x-r-source",
   "name": "R",
   "pygments_lexer": "r",
   "version": "4.1.0"
  }
 },
 "nbformat": 4,
 "nbformat_minor": 4
}
