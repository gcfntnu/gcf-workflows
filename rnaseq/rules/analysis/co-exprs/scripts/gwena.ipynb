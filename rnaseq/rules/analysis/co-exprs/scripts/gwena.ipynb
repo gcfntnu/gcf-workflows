{
 "cells": [
  {
   "cell_type": "code",
   "execution_count": null,
   "metadata": {},
   "outputs": [],
   "source": []
  },
  {
   "cell_type": "code",
   "execution_count": 2,
   "metadata": {},
   "outputs": [],
   "source": [
    "library(GWENA)\n",
    "library(magrittr) "
   ]
  },
  {
   "cell_type": "code",
   "execution_count": 3,
   "metadata": {},
   "outputs": [],
   "source": [
    "exprs <- read.delim(snakemake@input$vst, sep=\"\\t\", as.is=TRUE, check.names=FALSE, row.names=1)\n",
    "exprs <- exprs[rowMeans(exprs)>5,]"
   ]
  },
  {
   "cell_type": "code",
   "execution_count": 4,
   "metadata": {},
   "outputs": [],
   "source": [
    "sample.info <- read.delim(\"data/tmp/sample_info.tsv\", sep=\"\\t\", row.names=1)\n",
    "sample.info <- sample.info[colnames(exprs),]\n",
    "gene.info <- read.delim(\"data/tmp/rnaseq/quant/salmon/tximport/gene_info.tsv\", sep=\"\\t\", row.names=1, as.is=TRUE)\n",
    "gene.info <- gene.info[rownames(exprs),]"
   ]
  },
  {
   "cell_type": "code",
   "execution_count": 5,
   "metadata": {},
   "outputs": [],
   "source": [
    "head(exprs)"
   ]
  },
  {
   "cell_type": "code",
   "execution_count": null,
   "metadata": {},
   "outputs": [],
   "source": []
  },
  {
   "cell_type": "code",
   "execution_count": 6,
   "metadata": {},
   "outputs": [],
   "source": [
    "head(sample.info)"
   ]
  },
  {
   "cell_type": "code",
   "execution_count": 7,
   "metadata": {},
   "outputs": [],
   "source": [
    "head(gene.info)"
   ]
  },
  {
   "cell_type": "code",
   "execution_count": 8,
   "metadata": {},
   "outputs": [],
   "source": [
    "se <- SummarizedExperiment::SummarizedExperiment(assays=list(expr=exprs), colData=sample.info, rowData=gene.info)\n",
    "dim(se)"
   ]
  },
  {
   "cell_type": "markdown",
   "metadata": {},
   "outputs": [],
   "source": [
    "**Filter expression data**"
   ]
  },
  {
   "cell_type": "code",
   "execution_count": 11,
   "metadata": {},
   "outputs": [],
   "source": [
    "\n",
    "se_filt <- filter_low_var(se, pct = 0.7, type = \"median\")"
   ]
  },
  {
   "cell_type": "code",
   "execution_count": 12,
   "metadata": {},
   "outputs": [],
   "source": [
    "dim(se_filt)"
   ]
  },
  {
   "cell_type": "code",
   "execution_count": 26,
   "metadata": {},
   "outputs": [],
   "source": [
    "?build_net"
   ]
  },
  {
   "cell_type": "code",
   "execution_count": 30,
   "metadata": {},
   "outputs": [],
   "source": [
    "net <- build_net(se_filt, cor_func = \"spearman\", n_threads = 24)"
   ]
  },
  {
   "cell_type": "code",
   "execution_count": 31,
   "metadata": {},
   "outputs": [],
   "source": [
    "net$metadata"
   ]
  },
  {
   "cell_type": "code",
   "execution_count": null,
   "metadata": {},
   "outputs": [],
   "source": []
  },
  {
   "cell_type": "code",
   "execution_count": 33,
   "metadata": {},
   "outputs": [],
   "source": [
    "plot(net$metadata$fit_power_table[,2])"
   ]
  },
  {
   "cell_type": "code",
   "execution_count": 34,
   "metadata": {},
   "outputs": [],
   "source": [
    "fit_power_table <- net$metadata$fit_power_table\n",
    "fit_power_table[fit_power_table$Power == net$metadata$power, \"SFT.R.sq\"]"
   ]
  },
  {
   "cell_type": "code",
   "execution_count": 32,
   "metadata": {},
   "outputs": [],
   "source": [
    "?detect_modules"
   ]
  },
  {
   "cell_type": "code",
   "execution_count": 35,
   "metadata": {},
   "outputs": [],
   "source": [
    "modules <- detect_modules(se_filt, net$network, detailled_result = TRUE, merge_threshold = 0.75)"
   ]
  },
  {
   "cell_type": "code",
   "execution_count": 36,
   "metadata": {},
   "outputs": [],
   "source": [
    "layout_mod_merge <- plot_modules_merge(modules_premerge = modules$modules_premerge, modules_merged = modules$modules)"
   ]
  },
  {
   "cell_type": "code",
   "execution_count": 37,
   "metadata": {},
   "outputs": [],
   "source": [
    "ggplot2::ggplot(data.frame(modules$modules %>% stack), \n",
    "                ggplot2::aes(x = ind)) + ggplot2::stat_count() +\n",
    "  ggplot2::ylab(\"Number of genes\") +\n",
    "  ggplot2::xlab(\"Module\")"
   ]
  },
  {
   "cell_type": "code",
   "execution_count": 41,
   "metadata": {},
   "outputs": [],
   "source": [
    "plot_expression_profiles(se_filt, modules$modules)"
   ]
  },
  {
   "cell_type": "code",
   "execution_count": null,
   "metadata": {},
   "outputs": [],
   "source": []
  },
  {
   "cell_type": "code",
   "execution_count": 38,
   "metadata": {},
   "outputs": [],
   "source": [
    "enrichment <- bio_enrich(modules$modules)\n",
    "plot_enrichment(enrichment)"
   ]
  },
  {
   "cell_type": "code",
   "execution_count": 51,
   "metadata": {},
   "outputs": [],
   "source": [
    "eigengenes <- mm\n",
    "all(lapply(eigengenes, function(x) is.character(x) | is.numeric(x) | is.logical(x)) %>% unlist)"
   ]
  },
  {
   "cell_type": "code",
   "execution_count": 42,
   "metadata": {},
   "outputs": [],
   "source": [
    "ss <- sample.info %>% dplyr::select(Sample_Group)\n",
    "ss$Sample_Group <- factor(ss$Sample_Group)\n",
    "ss$Sample_Group <- relevel(ss$Sample_Group, ref = \"ctr\")\n",
    "ss <- cbind(ss, ss)\n",
    "mm <- as.matrix(modules$modules_eigengenes)\n",
    "phenotype_association <- associate_phenotype(eigengenes=mm, phenotypes=ss)"
   ]
  },
  {
   "cell_type": "code",
   "execution_count": 44,
   "metadata": {},
   "outputs": [],
   "source": [
    "GWENA::associate_phenotype"
   ]
  },
  {
   "cell_type": "code",
   "execution_count": 43,
   "metadata": {},
   "outputs": [],
   "source": [
    "??associate_phenotype"
   ]
  },
  {
   "cell_type": "code",
   "execution_count": null,
   "metadata": {},
   "outputs": [],
   "source": []
  },
  {
   "cell_type": "code",
   "execution_count": null,
   "metadata": {},
   "outputs": [],
   "source": []
  },
  {
   "cell_type": "code",
   "execution_count": 90,
   "metadata": {},
   "outputs": [],
   "source": [
    "module_example <- modules$modules$`2`\n",
    "graph <- build_graph_from_sq_mat(net$network[module_example, module_example])"
   ]
  },
  {
   "cell_type": "code",
   "execution_count": 91,
   "metadata": {},
   "outputs": [],
   "source": [
    "layout_mod_2 <- plot_module(graph, upper_weight_th = 0.999995, \n",
    "                            vertex.label.cex = 0, \n",
    "                            node_scaling_max = 7, \n",
    "                            legend_cex = 1)"
   ]
  },
  {
   "cell_type": "code",
   "execution_count": null,
   "metadata": {},
   "outputs": [],
   "source": []
  }
 ],
 "metadata": {
  "kernelspec": {
   "display_name": "R",
   "language": "R",
   "name": "ir"
  },
  "language_info": {
   "codemirror_mode": "r",
   "file_extension": ".r",
   "mimetype": "text/x-r-source",
   "name": "R",
   "pygments_lexer": "r",
   "version": "4.0.5"
  }
 },
 "nbformat": 4,
 "nbformat_minor": 4
}
