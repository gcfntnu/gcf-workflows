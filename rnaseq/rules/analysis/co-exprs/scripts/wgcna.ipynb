{
 "cells": [
  {
   "cell_type": "code",
   "execution_count": null,
   "metadata": {},
   "outputs": [],
   "source": []
  },
  {
   "cell_type": "code",
   "execution_count": 35,
   "metadata": {},
   "outputs": [],
   "source": [
    "library(GWENA)\n",
    "library(WGCNA)\n",
    "library(magrittr) \n",
    "library(tidyverse) "
   ]
  },
  {
   "cell_type": "code",
   "execution_count": 3,
   "metadata": {},
   "outputs": [],
   "source": [
    "exprs <- read.delim(snakemake@input$vst, sep=\"\\t\", as.is=TRUE, check.names=FALSE, row.names=1)\n",
    "exprs <- exprs[rowMeans(exprs)>5,]"
   ]
  },
  {
   "cell_type": "code",
   "execution_count": 4,
   "metadata": {},
   "outputs": [],
   "source": [
    "sample.info <- read.delim(\"data/tmp/sample_info.tsv\", sep=\"\\t\", row.names=1)\n",
    "sample.info <- sample.info[colnames(exprs),]\n",
    "gene.info <- read.delim(\"data/tmp/rnaseq/quant/salmon/tximport/gene_info.tsv\", sep=\"\\t\", row.names=1, as.is=TRUE)\n",
    "gene.info <- gene.info[rownames(exprs),]"
   ]
  },
  {
   "cell_type": "code",
   "execution_count": 5,
   "metadata": {},
   "outputs": [],
   "source": [
    "head(exprs)"
   ]
  },
  {
   "cell_type": "code",
   "execution_count": null,
   "metadata": {},
   "outputs": [],
   "source": []
  },
  {
   "cell_type": "code",
   "execution_count": 6,
   "metadata": {},
   "outputs": [],
   "source": [
    "head(sample.info)"
   ]
  },
  {
   "cell_type": "code",
   "execution_count": 106,
   "metadata": {},
   "outputs": [],
   "source": [
    "head(gene.info)"
   ]
  },
  {
   "cell_type": "code",
   "execution_count": 107,
   "metadata": {},
   "outputs": [],
   "source": [
    "se <- SummarizedExperiment::SummarizedExperiment(assays=list(expr=exprs), colData=sample.info, rowData=gene.info)\n",
    "dim(se)"
   ]
  },
  {
   "cell_type": "markdown",
   "metadata": {},
   "outputs": [],
   "source": [
    "**Filter expression data**"
   ]
  },
  {
   "cell_type": "code",
   "execution_count": 7,
   "metadata": {},
   "outputs": [],
   "source": [
    "\n",
    "se_filt <- filter_low_var(t(exprs), pct = 0.5, type = \"median\")"
   ]
  },
  {
   "cell_type": "code",
   "execution_count": 8,
   "metadata": {},
   "outputs": [],
   "source": [
    "dim(se_filt)"
   ]
  },
  {
   "cell_type": "code",
   "execution_count": 10,
   "metadata": {},
   "outputs": [],
   "source": [
    "require(parallel)\n",
    "require(doParallel)\n",
    "cpucores <- makeCluster(detectCores(), type='PSOCK') ; \n",
    "registerDoParallel(cpucores) ; "
   ]
  },
  {
   "cell_type": "code",
   "execution_count": 19,
   "metadata": {},
   "outputs": [],
   "source": [
    "powers = c(c(1:10), seq(from = 12, to = 70, by = 2))\n",
    "sft = pickSoftThreshold(se_filt, powerVector = powers,verbose = 5, networkType = \"signed\")"
   ]
  },
  {
   "cell_type": "code",
   "execution_count": 20,
   "metadata": {},
   "outputs": [],
   "source": [
    "par(mfrow = c(1,2));\n",
    "cex1 = 0.9;\n",
    "\n",
    "plot(sft$fitIndices[, 1],\n",
    "     -sign(sft$fitIndices[, 3]) * sft$fitIndices[, 2],\n",
    "     xlab = \"Soft Threshold (power)\",\n",
    "     ylab = \"Scale Free Topology Model Fit, signed R^2\",\n",
    "     main = paste(\"Scale independence\")\n",
    ")\n",
    "text(sft$fitIndices[, 1],\n",
    "     -sign(sft$fitIndices[, 3]) * sft$fitIndices[, 2],\n",
    "     labels = powers, cex = cex1, col = \"red\"\n",
    ")\n",
    "abline(h = 0.90, col = \"red\")\n",
    "plot(sft$fitIndices[, 1],\n",
    "     sft$fitIndices[, 5],\n",
    "     xlab = \"Soft Threshold (power)\",\n",
    "     ylab = \"Mean Connectivity\",\n",
    "     type = \"n\",\n",
    "     main = paste(\"Mean connectivity\")\n",
    ")\n",
    "text(sft$fitIndices[, 1],\n",
    "     sft$fitIndices[, 5],\n",
    "     labels = powers,\n",
    "     cex = cex1, col = \"red\")"
   ]
  },
  {
   "cell_type": "code",
   "execution_count": 73,
   "metadata": {},
   "outputs": [],
   "source": [
    "picked_power = 30\n",
    "temp_cor <- cor       \n",
    "cor <- WGCNA::cor \n",
    "netwk <- blockwiseModules(se_filt,                # <= input here\n",
    "\n",
    "                          # == Adjacency Function ==\n",
    "                          power = picked_power,                # <= power here\n",
    "                          networkType = \"signed\",\n",
    "\n",
    "                          # == Tree and Block Options ==\n",
    "                          deepSplit = 2,\n",
    "                          pamRespectsDendro = F,\n",
    "                          # detectCutHeight = 0.75,\n",
    "                          minModuleSize = 30,\n",
    "                          maxBlockSize = 4000,\n",
    "\n",
    "                          # == Module Adjustments ==\n",
    "                          reassignThreshold = 0,\n",
    "                          mergeCutHeight = 0.5,\n",
    "\n",
    "                          # == TOM == Archive the run results in TOM file (saves time)\n",
    "                          saveTOMs = T,\n",
    "                          saveTOMFileBase = \"ER\",\n",
    "\n",
    "                          # == Output Options\n",
    "                          numericLabels = T,\n",
    "                          verbose = 3)"
   ]
  },
  {
   "cell_type": "code",
   "execution_count": 74,
   "metadata": {},
   "outputs": [],
   "source": [
    "mergedColors = labels2colors(netwk$colors)\n",
    "plotDendroAndColors(\n",
    "  netwk$dendrograms[[1]],\n",
    "  mergedColors[netwk$blockGenes[[1]]],\n",
    "  \"Module colors\",\n",
    "  dendroLabels = FALSE,\n",
    "  hang = 0.03,\n",
    "  addGuide = TRUE,\n",
    "  guideHang = 0.05 )\n"
   ]
  },
  {
   "cell_type": "code",
   "execution_count": 75,
   "metadata": {},
   "outputs": [],
   "source": [
    "MEs <- moduleEigengenes(se_filt, mergedColors)$eigengenes\n",
    "MEs <- orderMEs(MEs)\n",
    "module_order = names(MEs) %>% gsub(\"ME\",\"\", .)\n",
    "MEs$treatment = sample.info$Sample_Group"
   ]
  },
  {
   "cell_type": "code",
   "execution_count": 76,
   "metadata": {},
   "outputs": [],
   "source": [
    "# tidy & plot data\n",
    "mME = MEs %>%\n",
    "  pivot_longer(-treatment) %>%\n",
    "  mutate(\n",
    "    name = gsub(\"ME\", \"\", name),\n",
    "    name = factor(name, levels = module_order)\n",
    "  )\n",
    "\n",
    "mME %>% ggplot(., aes(x=treatment, y=name, fill=value)) +\n",
    "  geom_tile() +\n",
    "  theme_bw() +\n",
    "  scale_fill_gradient2(\n",
    "    low = \"blue\",\n",
    "    high = \"red\",\n",
    "    mid = \"white\",\n",
    "    midpoint = 0,\n",
    "    limit = c(-1,1)) +\n",
    "  theme(axis.text.x = element_text(angle=90)) +\n",
    "  labs(title = \"Module-trait Relationships\", y = \"Modules\", fill=\"corr\")\n"
   ]
  },
  {
   "cell_type": "code",
   "execution_count": 77,
   "metadata": {},
   "outputs": [],
   "source": [
    "MEs <- moduleEigengenes(se_filt, mergedColors)$eigengenes\n",
    "MEDiss = 1-cor(MEs)\n",
    "METree = hclust(as.dist(MEDiss), method = \"average\")\n",
    "#Plotting the result\n",
    "#sizeGrWindow(7, 6)\n",
    "plot(METree, main = \"Clustering of module eigengenes\",\n",
    "     xlab = \"\", sub = \"\")\n",
    "MEDissThres = 0.5\n",
    "#Plotting a cut-off line\n",
    "abline(h=MEDissThres, col = \"red\")"
   ]
  },
  {
   "cell_type": "code",
   "execution_count": 79,
   "metadata": {},
   "outputs": [],
   "source": [
    "#Grouping module colors\n",
    "#mergedColors = merge$colors\n",
    "geneTree = netwk$dendrograms[[1]]; \n",
    "#Eigengenes of new grouped modules\n",
    "#mergedMEs = merge$newMEs\n",
    "#getwd()\n",
    "#sizeGrWindow(12, 9)\n",
    "#pdf(file = \"/media/natalia/3C8E068E2A640DD5/WGCNA/Spodoptera/geneDendro-3.pdf\", wi = 9, he = 6)\n",
    "plotDendroAndColors(geneTree, cbind(dynamicColors, mergedColors),\n",
    "                    c(\"Dynamic Tree Cut\", \"Merged dynamic\"),\n",
    "                    dendroLabels = FALSE, hang = 0.03,\n",
    "                    addGuide = TRUE, guideHang = 0.05)"
   ]
  },
  {
   "cell_type": "code",
   "execution_count": 80,
   "metadata": {},
   "outputs": [],
   "source": [
    "datTraits <- model.matrix(~0 + Sample_Group, data=sample.info)\n",
    "colnames(datTraits) <- levels(factor(sample.info$Sample_Group))\n",
    "moduleTraitCor = cor(MEs, datTraits, use = \"p\")\n",
    "moduleTraitPvalue = corPvalueStudent(moduleTraitCor, ncol(sample.info))"
   ]
  },
  {
   "cell_type": "code",
   "execution_count": 81,
   "metadata": {},
   "outputs": [],
   "source": [
    "# Will display correlations and their p-values\n",
    "textMatrix =  paste(signif(moduleTraitCor, 2), \"\\n(\",\n",
    "                           signif(moduleTraitPvalue, 1), \")\", sep = \"\");\n",
    "dim(textMatrix) = dim(moduleTraitCor)\n",
    "par(mar = c(6, 8.5, 3, 3));\n",
    "# Display the correlation values within a heatmap plot\n",
    "labeledHeatmap(Matrix = moduleTraitCor,\n",
    "               xLabels = colnames(datTraits),\n",
    "               yLabels = names(MEs),\n",
    "               ySymbols = names(MEs),\n",
    "               colorLabels = FALSE,\n",
    "               colors = greenWhiteRed(50),\n",
    "               textMatrix = textMatrix,\n",
    "               setStdMargins = FALSE,\n",
    "               cex.text = 0.5,\n",
    "               zlim = c(-1,1),\n",
    "               main = paste(\"Module-trait relationships\"))\n"
   ]
  },
  {
   "cell_type": "code",
   "execution_count": 71,
   "metadata": {},
   "outputs": [],
   "source": [
    "names(datTraits)"
   ]
  },
  {
   "cell_type": "code",
   "execution_count": 89,
   "metadata": {},
   "outputs": [],
   "source": [
    "ss <- sample.info[,c(\"Sample_Group\"), drop=FALSE]\n",
    "#ss$Sample_Group <- factor(ss$Sample_Group)\n",
    "association <- associate_phenotype(MEs, ss)"
   ]
  },
  {
   "cell_type": "code",
   "execution_count": 87,
   "metadata": {},
   "outputs": [],
   "source": [
    "phenotype_mat <- data.frame(phenA = sample(c(\"X\", \"Y\", \"Z\"), 20,\n",
    "                            replace = TRUE),\n",
    "                            phenB = sample(c(\"U\", \"V\"), 20,\n",
    "                            replace = TRUE),\n",
    "                            stringsAsFactors = FALSE)"
   ]
  },
  {
   "cell_type": "code",
   "execution_count": 91,
   "metadata": {},
   "outputs": [],
   "source": [
    "dim(MEs)"
   ]
  },
  {
   "cell_type": "code",
   "execution_count": 92,
   "metadata": {},
   "outputs": [],
   "source": [
    "eigengene_mat <- data.frame(mod1 = rnorm(20, 0.1, 0.2),\n",
    "mod2 = rnorm(20, 0.2, 0.2))\n",
    "phenotype_mat <- data.frame(phenA = sample(c(\"X\", \"Y\", \"Z\"), 20,\n",
    "                            replace = TRUE),\n",
    "                            phenB = sample(c(\"U\", \"V\"), 20,\n",
    "                            replace = TRUE),\n",
    "                            stringsAsFactors = FALSE)\n",
    "association <- associate_phenotype(eigengene_mat, phenotype_mat)"
   ]
  },
  {
   "cell_type": "code",
   "execution_count": 94,
   "metadata": {},
   "outputs": [],
   "source": [
    "dim(eigengene_mat)"
   ]
  },
  {
   "cell_type": "code",
   "execution_count": 95,
   "metadata": {},
   "outputs": [],
   "source": [
    "dim(phenotype_mat)"
   ]
  },
  {
   "cell_type": "code",
   "execution_count": null,
   "metadata": {},
   "outputs": [],
   "source": []
  }
 ],
 "metadata": {
  "kernelspec": {
   "display_name": "R",
   "language": "R",
   "name": "ir"
  },
  "language_info": {
   "codemirror_mode": "r",
   "file_extension": ".r",
   "mimetype": "text/x-r-source",
   "name": "R",
   "pygments_lexer": "r",
   "version": "4.0.5"
  }
 },
 "nbformat": 4,
 "nbformat_minor": 4
}
