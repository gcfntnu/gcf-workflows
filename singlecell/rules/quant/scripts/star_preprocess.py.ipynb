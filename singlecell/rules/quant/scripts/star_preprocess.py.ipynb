{
 "cells": [
  {
   "cell_type": "code",
   "execution_count": null,
   "metadata": {
    "tags": [
     "snakemake-job-properties"
    ]
   },
   "outputs": [],
   "source": [
    "\n",
    "######## snakemake preamble start (automatically inserted, do not edit) ########\n",
    "import sys; sys.path.extend(['/mnt/snakemake', '/mnt/work/geiramh/dev/gcf-workflows-starsolo-upadte/src/gcf-workflows/singlecell/rules/quant/scripts']); import pickle; snakemake = pickle.loads(b'\\x80\\x03csnakemake.script\\nSnakemake\\nq\\x00)\\x81q\\x01}q\\x02(X\\x05\\x00\\x00\\x00inputq\\x03csnakemake.io\\nInputFiles\\nq\\x04)\\x81q\\x05XE\\x00\\x00\\x00data/tmp/singlecell/quant/aggregate/star/scanpy/all_samples_aggr.h5adq\\x06a}q\\x07(X\\x06\\x00\\x00\\x00_namesq\\x08}q\\tX\\x12\\x00\\x00\\x00_allowed_overridesq\\n]q\\x0b(X\\x05\\x00\\x00\\x00indexq\\x0cX\\x04\\x00\\x00\\x00sortq\\reh\\x0ccfunctools\\npartial\\nq\\x0ecbuiltins\\ngetattr\\nq\\x0fcsnakemake.io\\nNamedlist\\nq\\x10X\\x0f\\x00\\x00\\x00_used_attributeq\\x11\\x86q\\x12Rq\\x13\\x85q\\x14Rq\\x15(h\\x13)}q\\x16X\\x05\\x00\\x00\\x00_nameq\\x17h\\x0csNtq\\x18bh\\rh\\x0eh\\x13\\x85q\\x19Rq\\x1a(h\\x13)}q\\x1bh\\x17h\\rsNtq\\x1cbubX\\x06\\x00\\x00\\x00outputq\\x1dcsnakemake.io\\nOutputFiles\\nq\\x1e)\\x81q\\x1fXE\\x00\\x00\\x00data/tmp/singlecell/quant/aggregate/star/notebooks/all_samples_pp.txtq a}q!(h\\x08}q\"h\\n]q#(h\\x0ch\\reh\\x0ch\\x0eh\\x13\\x85q$Rq%(h\\x13)}q&h\\x17h\\x0csNtq\\'bh\\rh\\x0eh\\x13\\x85q(Rq)(h\\x13)}q*h\\x17h\\rsNtq+bubX\\x06\\x00\\x00\\x00paramsq,csnakemake.io\\nParams\\nq-)\\x81q.}q/(h\\x08}q0h\\n]q1(h\\x0ch\\reh\\x0ch\\x0eh\\x13\\x85q2Rq3(h\\x13)}q4h\\x17h\\x0csNtq5bh\\rh\\x0eh\\x13\\x85q6Rq7(h\\x13)}q8h\\x17h\\rsNtq9bubX\\t\\x00\\x00\\x00wildcardsq:csnakemake.io\\nWildcards\\nq;)\\x81q<}q=(h\\x08}q>h\\n]q?(h\\x0ch\\reh\\x0ch\\x0eh\\x13\\x85q@RqA(h\\x13)}qBh\\x17h\\x0csNtqCbh\\rh\\x0eh\\x13\\x85qDRqE(h\\x13)}qFh\\x17h\\rsNtqGbubX\\x07\\x00\\x00\\x00threadsqHK\\x18X\\t\\x00\\x00\\x00resourcesqIcsnakemake.io\\nResources\\nqJ)\\x81qK(K\\x18K\\x01e}qL(h\\x08}qM(X\\x06\\x00\\x00\\x00_coresqNK\\x00N\\x86qOX\\x06\\x00\\x00\\x00_nodesqPK\\x01N\\x86qQuh\\n]qR(h\\x0ch\\reh\\x0ch\\x0eh\\x13\\x85qSRqT(h\\x13)}qUh\\x17h\\x0csNtqVbh\\rh\\x0eh\\x13\\x85qWRqX(h\\x13)}qYh\\x17h\\rsNtqZbhNK\\x18hPK\\x01ubX\\x03\\x00\\x00\\x00logq[csnakemake.io\\nLog\\nq\\\\)\\x81q]XG\\x00\\x00\\x00data/tmp/singlecell/quant/aggregate/star/notebooks/all_samples_pp.ipynbq^a}q_(h\\x08}q`X\\x08\\x00\\x00\\x00notebookqaK\\x00N\\x86qbsh\\n]qc(h\\x0ch\\reh\\x0ch\\x0eh\\x13\\x85qdRqe(h\\x13)}qfh\\x17h\\x0csNtqgbh\\rh\\x0eh\\x13\\x85qhRqi(h\\x13)}qjh\\x17h\\rsNtqkbhah^ubX\\x06\\x00\\x00\\x00configql}qm(X\\n\\x00\\x00\\x00project_idqn]qoX\\x0c\\x00\\x00\\x00GCF-2020-739qpaX\\x08\\x00\\x00\\x00organismqqX\\x0c\\x00\\x00\\x00mus_musculusqrX\\n\\x00\\x00\\x00libprepkitqsXB\\x00\\x00\\x0010X Genomics Chromium Single Cell 3p GEM Library & Gel Bead Kit v3qtX\\x02\\x00\\x00\\x00dbqu}qv(X\\x0c\\x00\\x00\\x00reference_dbqwX\\x07\\x00\\x00\\x00ensemblqxX\\x08\\x00\\x00\\x00add_erccqy\\x89X\\x0b\\x00\\x00\\x0010xgenomicsqz}q{(X\\x07\\x00\\x00\\x00releaseq|X\\x06\\x00\\x00\\x002020-Aq}X\\x08\\x00\\x00\\x00add_erccq~\\x89uX\\x07\\x00\\x00\\x00ensemblq\\x7f}q\\x80(X\\x07\\x00\\x00\\x00releaseq\\x81X\\x03\\x00\\x00\\x00104q\\x82X\\r\\x00\\x00\\x00all_divisionsq\\x83X2\\x00\\x00\\x00vertebrates,protists,metazoa,plants,fungi,bacteriaq\\x84X\\x08\\x00\\x00\\x00add_erccq\\x85\\x89X\\x08\\x00\\x00\\x00assemblyq\\x86X\\x06\\x00\\x00\\x00GRCm39q\\x87X\\x08\\x00\\x00\\x00divisionq\\x88X\\x0b\\x00\\x00\\x00vertebratesq\\x89uX\\x0e\\x00\\x00\\x00ensemblgenomesq\\x8a}q\\x8b(X\\x07\\x00\\x00\\x00releaseq\\x8cX\\x02\\x00\\x00\\x0051q\\x8dX\\x08\\x00\\x00\\x00add_erccq\\x8e\\x89uX\\x07\\x00\\x00\\x00gencodeq\\x8f}q\\x90(X\\x07\\x00\\x00\\x00releaseq\\x91X\\x02\\x00\\x00\\x0037q\\x92X\\x08\\x00\\x00\\x00add_erccq\\x93\\x89uX\\x06\\x00\\x00\\x00refseqq\\x94}q\\x95(X\\x07\\x00\\x00\\x00releaseq\\x96X\\x03\\x00\\x00\\x00205q\\x97X\\x08\\x00\\x00\\x00add_erccq\\x98\\x89uX\\x07\\x00\\x00\\x00lncbookq\\x99}q\\x9aX\\x07\\x00\\x00\\x00releaseq\\x9bX\\x04\\x00\\x00\\x009.28q\\x9csX\\x07\\x00\\x00\\x00mirbaseq\\x9d}q\\x9e(X\\x07\\x00\\x00\\x00releaseq\\x9fX\\x02\\x00\\x00\\x0022q\\xa0X\\x0f\\x00\\x00\\x00add_calibratorsq\\xa1\\x89X\\x08\\x00\\x00\\x00add_erccq\\xa2\\x89uX\\x08\\x00\\x00\\x00mircartaq\\xa3}q\\xa4(X\\x07\\x00\\x00\\x00releaseq\\xa5X\\x03\\x00\\x00\\x001.1q\\xa6X\\x0f\\x00\\x00\\x00add_calibratorsq\\xa7\\x89X\\x08\\x00\\x00\\x00add_erccq\\xa8\\x89uX\\x07\\x00\\x00\\x00pirbaseq\\xa9}q\\xaaX\\x07\\x00\\x00\\x00releaseq\\xabX\\x03\\x00\\x00\\x002.0q\\xacsX\\x07\\x00\\x00\\x00pirnadbq\\xad}q\\xaeX\\x07\\x00\\x00\\x00releaseq\\xafX\\x05\\x00\\x00\\x001_7_6q\\xb0sX\\n\\x00\\x00\\x00rnacentralq\\xb1}q\\xb2(X\\x08\\x00\\x00\\x00protocolq\\xb3X\\x04\\x00\\x00\\x00httpq\\xb4X\\x07\\x00\\x00\\x00releaseq\\xb5X\\x04\\x00\\x00\\x0014.0q\\xb6uX\\x06\\x00\\x00\\x00unitasq\\xb7}q\\xb8X\\x07\\x00\\x00\\x00releaseq\\xb9X\\x06\\x00\\x00\\x00210412q\\xbasX\\x05\\x00\\x00\\x00uniteq\\xbb}q\\xbc(X\\x07\\x00\\x00\\x00releaseq\\xbdX\\x03\\x00\\x00\\x008_2q\\xbeX\\x05\\x00\\x00\\x00levelq\\xbfX\\x07\\x00\\x00\\x00dynamicq\\xc0uX\\x05\\x00\\x00\\x00silvaq\\xc1}q\\xc2(X\\x07\\x00\\x00\\x00releaseq\\xc3X\\x03\\x00\\x00\\x00132q\\xc4X\\x05\\x00\\x00\\x00levelq\\xc5X\\x02\\x00\\x00\\x0099q\\xc6uX\\n\\x00\\x00\\x00greengenesq\\xc7}q\\xc8(X\\x07\\x00\\x00\\x00releaseq\\xc9X\\x04\\x00\\x00\\x0013_8q\\xcaX\\x05\\x00\\x00\\x00levelq\\xcbX\\x02\\x00\\x00\\x0097q\\xccuX\\x06\\x00\\x00\\x00frnadbq\\xcd}q\\xceX\\x07\\x00\\x00\\x00releaseq\\xcfX\\x08\\x00\\x00\\x0020160329q\\xd0sX\\t\\x00\\x00\\x00lncipediaq\\xd1}q\\xd2X\\x07\\x00\\x00\\x00releaseq\\xd3X\\x03\\x00\\x00\\x005_2q\\xd4sX\\t\\x00\\x00\\x00sortmernaq\\xd5}q\\xd6X\\x02\\x00\\x00\\x00dbq\\xd7X\\x9f\\x00\\x00\\x00silva-arc-16s-id95,silva-arc-23s-id98,silva-bac-16s-id90,silva-bac-23s-id98,silva-euk-18s-id95,silva-euk-28s-id98,rfam-5.8s-database-id98,rfam-5s-database-id98q\\xd8suX\\r\\x00\\x00\\x00read_geometryq\\xd9]q\\xda(K\\x1cK8eX\\x07\\x00\\x00\\x00machineq\\xdbX\\x0b\\x00\\x00\\x00NextSeq 500q\\xdcX\\x05\\x00\\x00\\x00quantq\\xdd}q\\xde(X\\x05\\x00\\x00\\x00batchq\\xdf}q\\xe0X\\x06\\x00\\x00\\x00methodq\\xe1X\\x04\\x00\\x00\\x00skipq\\xe2sX\\x06\\x00\\x00\\x00methodq\\xe3X\\x04\\x00\\x00\\x00starq\\xe4X\\t\\x00\\x00\\x00aggregateq\\xe5}q\\xe6(X\\x04\\x00\\x00\\x00skipq\\xe7\\x89X\\x06\\x00\\x00\\x00methodq\\xe8X\\x06\\x00\\x00\\x00scanpyq\\xe9X\\x04\\x00\\x00\\x00normq\\xeaX\\x04\\x00\\x00\\x00noneq\\xebX\\x07\\x00\\x00\\x00groupbyq\\xecX\\x0b\\x00\\x00\\x00all_samplesq\\xeduX\\n\\x00\\x00\\x00cellrangerq\\xee}q\\xef(X\\t\\x00\\x00\\x00chemistryq\\xf0X\\x06\\x00\\x00\\x00SC3Pv3q\\xf1X\\t\\x00\\x00\\x00whitelistq\\xf2X\\x14\\x00\\x00\\x003M-february-2018.txtq\\xf3X\\x05\\x00\\x00\\x00mkgtfq\\xf4}q\\xf5X\\x0c\\x00\\x00\\x00gene_biotypeq\\xf6]q\\xf7(X\\x0e\\x00\\x00\\x00protein_codingq\\xf8X\\x07\\x00\\x00\\x00lincRNAq\\xf9esX\\t\\x00\\x00\\x00reanalyzeq\\xfa}q\\xfbX\\x04\\x00\\x00\\x00skipq\\xfc\\x88suX\\x08\\x00\\x00\\x00starsoloq\\xfd}q\\xfe(X\\t\\x00\\x00\\x00whitelistq\\xffX\\x14\\x00\\x00\\x003M-february-2018.txtr\\x00\\x01\\x00\\x00X\\x06\\x00\\x00\\x00cb_lenr\\x01\\x01\\x00\\x00K\\x10X\\x07\\x00\\x00\\x00umi_lenr\\x02\\x01\\x00\\x00K\\x0cX\\t\\x00\\x00\\x00umi_startr\\x03\\x01\\x00\\x00K\\x11uX\\x06\\x00\\x00\\x00alevinr\\x04\\x01\\x00\\x00}r\\x05\\x01\\x00\\x00X\\t\\x00\\x00\\x00chemistryr\\x06\\x01\\x00\\x00X\\n\\x00\\x00\\x00chromiumV3r\\x07\\x01\\x00\\x00sX\\t\\x00\\x00\\x00umi_toolsr\\x08\\x01\\x00\\x00}r\\t\\x01\\x00\\x00X\\t\\x00\\x00\\x00chemistryr\\n\\x01\\x00\\x00X\\x1c\\x00\\x00\\x00CCCCCCCCCCCCCCCCNNNNNNNNNNNNr\\x0b\\x01\\x00\\x00suX\\t\\x00\\x00\\x00fastq_dirr\\x0c\\x01\\x00\\x00X\\x0e\\x00\\x00\\x00data/raw/fastqr\\r\\x01\\x00\\x00X\\x07\\x00\\x00\\x00samplesr\\x0e\\x01\\x00\\x00}r\\x0f\\x01\\x00\\x00(X\\x04\\x00\\x00\\x00LPX2r\\x10\\x01\\x00\\x00}r\\x11\\x01\\x00\\x00(X\\x02\\x00\\x00\\x00R1r\\x12\\x01\\x00\\x00X;\\x01\\x00\\x00201022_NB501038_0238_AHKWNTBGXG/GCF-2020-739/LPX2/LPX2_S2_L001_R1_001.fastq.gz,201022_NB501038_0238_AHKWNTBGXG/GCF-2020-739/LPX2/LPX2_S2_L002_R1_001.fastq.gz,201022_NB501038_0238_AHKWNTBGXG/GCF-2020-739/LPX2/LPX2_S2_L003_R1_001.fastq.gz,201022_NB501038_0238_AHKWNTBGXG/GCF-2020-739/LPX2/LPX2_S2_L004_R1_001.fastq.gzr\\x13\\x01\\x00\\x00X\\x02\\x00\\x00\\x00R2r\\x14\\x01\\x00\\x00X;\\x01\\x00\\x00201022_NB501038_0238_AHKWNTBGXG/GCF-2020-739/LPX2/LPX2_S2_L001_R2_001.fastq.gz,201022_NB501038_0238_AHKWNTBGXG/GCF-2020-739/LPX2/LPX2_S2_L002_R2_001.fastq.gz,201022_NB501038_0238_AHKWNTBGXG/GCF-2020-739/LPX2/LPX2_S2_L003_R2_001.fastq.gz,201022_NB501038_0238_AHKWNTBGXG/GCF-2020-739/LPX2/LPX2_S2_L004_R2_001.fastq.gzr\\x15\\x01\\x00\\x00X\\n\\x00\\x00\\x00paired_endr\\x16\\x01\\x00\\x00K\\x01X\\t\\x00\\x00\\x00Sample_IDr\\x17\\x01\\x00\\x00X\\x04\\x00\\x00\\x00LPX2r\\x18\\x01\\x00\\x00X\\x0b\\x00\\x00\\x00External_IDr\\x19\\x01\\x00\\x00X\\x02\\x00\\x00\\x00F2r\\x1a\\x01\\x00\\x00X\\n\\x00\\x00\\x00Project_IDr\\x1b\\x01\\x00\\x00X\\x0c\\x00\\x00\\x00GCF-2020-739r\\x1c\\x01\\x00\\x00X\\x08\\x00\\x00\\x00Organismr\\x1d\\x01\\x00\\x00X\\x05\\x00\\x00\\x00Mouser\\x1e\\x01\\x00\\x00X\\x10\\x00\\x00\\x00Sample_Biosourcer\\x1f\\x01\\x00\\x00X\\x10\\x00\\x00\\x00Tissue/monocytesr \\x01\\x00\\x00X\\x0c\\x00\\x00\\x00Sample_Groupr!\\x01\\x00\\x00X\\x05\\x00\\x00\\x00cFLIPr\"\\x01\\x00\\x00X\\x10\\x00\\x00\\x00Customer_Commentr#\\x01\\x00\\x00X\\r\\x00\\x00\\x00700 cells/\\xc2\\xb5lr$\\x01\\x00\\x00X\\x0b\\x00\\x00\\x00Sample_Namer%\\x01\\x00\\x00X\\x00\\x00\\x00\\x00r&\\x01\\x00\\x00X\\n\\x00\\x00\\x00Project IDr\\'\\x01\\x00\\x00X\\x0c\\x00\\x00\\x00GCF-2020-739r(\\x01\\x00\\x00X\\x03\\x00\\x00\\x00KITr)\\x01\\x00\\x00j&\\x01\\x00\\x00X\\x03\\x00\\x00\\x00RINr*\\x01\\x00\\x00j&\\x01\\x00\\x00X\\x04\\x00\\x00\\x00ERCCr+\\x01\\x00\\x00j&\\x01\\x00\\x00X\\x0f\\x00\\x00\\x00Fragment_Lengthr,\\x01\\x00\\x00j&\\x01\\x00\\x00X\\x0b\\x00\\x00\\x00Fragment_SDr-\\x01\\x00\\x00j&\\x01\\x00\\x00X\\r\\x00\\x00\\x00Concentrationr.\\x01\\x00\\x00j&\\x01\\x00\\x00X\\x07\\x00\\x00\\x00260/280r/\\x01\\x00\\x00j&\\x01\\x00\\x00X\\x07\\x00\\x00\\x00260/230r0\\x01\\x00\\x00j&\\x01\\x00\\x00X\\x0b\\x00\\x00\\x00Lab_Commentr1\\x01\\x00\\x00j&\\x01\\x00\\x00uX\\x04\\x00\\x00\\x00LPX4r2\\x01\\x00\\x00}r3\\x01\\x00\\x00(X\\x02\\x00\\x00\\x00R1r4\\x01\\x00\\x00X;\\x01\\x00\\x00201022_NB501038_0238_AHKWNTBGXG/GCF-2020-739/LPX4/LPX4_S4_L001_R1_001.fastq.gz,201022_NB501038_0238_AHKWNTBGXG/GCF-2020-739/LPX4/LPX4_S4_L002_R1_001.fastq.gz,201022_NB501038_0238_AHKWNTBGXG/GCF-2020-739/LPX4/LPX4_S4_L003_R1_001.fastq.gz,201022_NB501038_0238_AHKWNTBGXG/GCF-2020-739/LPX4/LPX4_S4_L004_R1_001.fastq.gzr5\\x01\\x00\\x00X\\x02\\x00\\x00\\x00R2r6\\x01\\x00\\x00X;\\x01\\x00\\x00201022_NB501038_0238_AHKWNTBGXG/GCF-2020-739/LPX4/LPX4_S4_L001_R2_001.fastq.gz,201022_NB501038_0238_AHKWNTBGXG/GCF-2020-739/LPX4/LPX4_S4_L002_R2_001.fastq.gz,201022_NB501038_0238_AHKWNTBGXG/GCF-2020-739/LPX4/LPX4_S4_L003_R2_001.fastq.gz,201022_NB501038_0238_AHKWNTBGXG/GCF-2020-739/LPX4/LPX4_S4_L004_R2_001.fastq.gzr7\\x01\\x00\\x00X\\n\\x00\\x00\\x00paired_endr8\\x01\\x00\\x00K\\x01X\\t\\x00\\x00\\x00Sample_IDr9\\x01\\x00\\x00X\\x04\\x00\\x00\\x00LPX4r:\\x01\\x00\\x00X\\x0b\\x00\\x00\\x00External_IDr;\\x01\\x00\\x00X\\x02\\x00\\x00\\x00G3r<\\x01\\x00\\x00X\\n\\x00\\x00\\x00Project_IDr=\\x01\\x00\\x00X\\x0c\\x00\\x00\\x00GCF-2020-739r>\\x01\\x00\\x00X\\x08\\x00\\x00\\x00Organismr?\\x01\\x00\\x00X\\x05\\x00\\x00\\x00Mouser@\\x01\\x00\\x00X\\x10\\x00\\x00\\x00Sample_BiosourcerA\\x01\\x00\\x00X\\x10\\x00\\x00\\x00Tissue/monocytesrB\\x01\\x00\\x00X\\x0c\\x00\\x00\\x00Sample_GrouprC\\x01\\x00\\x00X\\x03\\x00\\x00\\x00GFPrD\\x01\\x00\\x00X\\x10\\x00\\x00\\x00Customer_CommentrE\\x01\\x00\\x00X\\r\\x00\\x00\\x00700 cells/\\xc2\\xb5lrF\\x01\\x00\\x00X\\x0b\\x00\\x00\\x00Sample_NamerG\\x01\\x00\\x00j&\\x01\\x00\\x00X\\n\\x00\\x00\\x00Project IDrH\\x01\\x00\\x00X\\x0c\\x00\\x00\\x00GCF-2020-739rI\\x01\\x00\\x00X\\x03\\x00\\x00\\x00KITrJ\\x01\\x00\\x00j&\\x01\\x00\\x00X\\x03\\x00\\x00\\x00RINrK\\x01\\x00\\x00j&\\x01\\x00\\x00X\\x04\\x00\\x00\\x00ERCCrL\\x01\\x00\\x00j&\\x01\\x00\\x00X\\x0f\\x00\\x00\\x00Fragment_LengthrM\\x01\\x00\\x00j&\\x01\\x00\\x00X\\x0b\\x00\\x00\\x00Fragment_SDrN\\x01\\x00\\x00j&\\x01\\x00\\x00X\\r\\x00\\x00\\x00ConcentrationrO\\x01\\x00\\x00j&\\x01\\x00\\x00X\\x07\\x00\\x00\\x00260/280rP\\x01\\x00\\x00j&\\x01\\x00\\x00X\\x07\\x00\\x00\\x00260/230rQ\\x01\\x00\\x00j&\\x01\\x00\\x00X\\x0b\\x00\\x00\\x00Lab_CommentrR\\x01\\x00\\x00j&\\x01\\x00\\x00uuX\\x06\\x00\\x00\\x00filterrS\\x01\\x00\\x00}rT\\x01\\x00\\x00(X\\x17\\x00\\x00\\x00compress_filtered_fastqrU\\x01\\x00\\x00\\x89X\\x05\\x00\\x00\\x00deduprV\\x01\\x00\\x00\\x89X\\x04\\x00\\x00\\x00trimrW\\x01\\x00\\x00}rX\\x01\\x00\\x00(X\\x06\\x00\\x00\\x00filterrY\\x01\\x00\\x00\\x89X\\n\\x00\\x00\\x00quantifierrZ\\x01\\x00\\x00X\\x05\\x00\\x00\\x00fastpr[\\x01\\x00\\x00X\\x05\\x00\\x00\\x00fastpr\\\\\\x01\\x00\\x00}r]\\x01\\x00\\x00(X\\x06\\x00\\x00\\x00paramsr^\\x01\\x00\\x00X\\x05\\x00\\x00\\x00-l 28r_\\x01\\x00\\x00X\\t\\x00\\x00\\x00trim_argsr`\\x01\\x00\\x00j&\\x01\\x00\\x00uX\\x08\\x00\\x00\\x00mirtracera\\x01\\x00\\x00}rb\\x01\\x00\\x00X\\x08\\x00\\x00\\x00protocolrc\\x01\\x00\\x00NsuX\\x07\\x00\\x00\\x00spikeinrd\\x01\\x00\\x00}re\\x01\\x00\\x00(X\\x06\\x00\\x00\\x00filterrf\\x01\\x00\\x00\\x89X\\n\\x00\\x00\\x00quantifierrg\\x01\\x00\\x00X\\x04\\x00\\x00\\x00skiprh\\x01\\x00\\x00X\\x03\\x00\\x00\\x00refri\\x01\\x00\\x00X\\x06\\x00\\x00\\x00ERCC92rj\\x01\\x00\\x00uX\\t\\x00\\x00\\x00ribosomalrk\\x01\\x00\\x00}rl\\x01\\x00\\x00(X\\x06\\x00\\x00\\x00filterrm\\x01\\x00\\x00\\x89X\\n\\x00\\x00\\x00quantifierrn\\x01\\x00\\x00X\\x04\\x00\\x00\\x00skipro\\x01\\x00\\x00X\\x03\\x00\\x00\\x00refrp\\x01\\x00\\x00X\\x04\\x00\\x00\\x00ncbirq\\x01\\x00\\x00uX\\x0c\\x00\\x00\\x00contaminantsrr\\x01\\x00\\x00}rs\\x01\\x00\\x00(X\\x06\\x00\\x00\\x00filterrt\\x01\\x00\\x00\\x89X\\n\\x00\\x00\\x00quantifierru\\x01\\x00\\x00X\\x04\\x00\\x00\\x00skiprv\\x01\\x00\\x00X\\x03\\x00\\x00\\x00refrw\\x01\\x00\\x00X\\x0b\\x00\\x00\\x00univec_corerx\\x01\\x00\\x00uuX\\x08\\x00\\x00\\x00analysisry\\x01\\x00\\x00}rz\\x01\\x00\\x00X\\x02\\x00\\x00\\x00qcr{\\x01\\x00\\x00}r|\\x01\\x00\\x00X\\x03\\x00\\x00\\x00bfqr}\\x01\\x00\\x00}r~\\x01\\x00\\x00X\\x06\\x00\\x00\\x00strainr\\x7f\\x01\\x00\\x00NX\\x10\\x00\\x00\\x00read_orientationr\\x80\\x01\\x00\\x00X\\x07\\x00\\x00\\x00reverser\\x81\\x01\\x00\\x00X\\t\\x00\\x00\\x00sample_idr\\x82\\x01\\x00\\x00X\\t\\x00\\x00\\x00Sample_IDr\\x83\\x01\\x00\\x00X\\x0f\\x00\\x00\\x00sample_group_idr\\x84\\x01\\x00\\x00X\\x0c\\x00\\x00\\x00Sample_Groupr\\x85\\x01\\x00\\x00X\\x08\\x00\\x00\\x00batch_idr\\x86\\x01\\x00\\x00NX\\x08\\x00\\x00\\x00block_idr\\x87\\x01\\x00\\x00NX\\x05\\x00\\x00\\x00alignr\\x88\\x01\\x00\\x00}r\\x89\\x01\\x00\\x00(X\\r\\x00\\x00\\x00transcriptomer\\x8a\\x01\\x00\\x00}r\\x8b\\x01\\x00\\x00X\\x07\\x00\\x00\\x00alignerr\\x8c\\x01\\x00\\x00X\\x03\\x00\\x00\\x00bwar\\x8d\\x01\\x00\\x00sX\\x06\\x00\\x00\\x00genomer\\x8e\\x01\\x00\\x00}r\\x8f\\x01\\x00\\x00X\\x07\\x00\\x00\\x00alignerr\\x90\\x01\\x00\\x00X\\x04\\x00\\x00\\x00starr\\x91\\x01\\x00\\x00suX\\x08\\x00\\x00\\x00assemblyr\\x92\\x01\\x00\\x00}r\\x93\\x01\\x00\\x00(X\\x0c\\x00\\x00\\x00base_ref_dirr\\x94\\x01\\x00\\x00X\\x07\\x00\\x00\\x00ensemblr\\x95\\x01\\x00\\x00X\\r\\x00\\x00\\x00transcriptomer\\x96\\x01\\x00\\x00}r\\x97\\x01\\x00\\x00(X\\t\\x00\\x00\\x00assemblerr\\x98\\x01\\x00\\x00X\\x04\\x00\\x00\\x00skipr\\x99\\x01\\x00\\x00X\\x05\\x00\\x00\\x00merger\\x9a\\x01\\x00\\x00}r\\x9b\\x01\\x00\\x00X\\x04\\x00\\x00\\x00typer\\x9c\\x01\\x00\\x00X\\x05\\x00\\x00\\x00fastqr\\x9d\\x01\\x00\\x00suX\\x06\\x00\\x00\\x00genomer\\x9e\\x01\\x00\\x00}r\\x9f\\x01\\x00\\x00X\\t\\x00\\x00\\x00assemblerr\\xa0\\x01\\x00\\x00X\\x04\\x00\\x00\\x00skipr\\xa1\\x01\\x00\\x00suX\\x07\\x00\\x00\\x00multiqcr\\xa2\\x01\\x00\\x00}r\\xa3\\x01\\x00\\x00(X\\x06\\x00\\x00\\x00rnaseqr\\xa4\\x01\\x00\\x00}r\\xa5\\x01\\x00\\x00X\\x07\\x00\\x00\\x00modulesr\\xa6\\x01\\x00\\x00X;\\x00\\x00\\x00fastq_screen,star,picard,fastp,fastqc_rnaseq,custom_contentr\\xa7\\x01\\x00\\x00sX\\n\\x00\\x00\\x00microbiomer\\xa8\\x01\\x00\\x00}r\\xa9\\x01\\x00\\x00X\\x07\\x00\\x00\\x00modulesr\\xaa\\x01\\x00\\x00X6\\x00\\x00\\x00fastq_screen,fastp,fastqc_rnaseq,custom_content,qiime2r\\xab\\x01\\x00\\x00sX\\n\\x00\\x00\\x00singlecellr\\xac\\x01\\x00\\x00}r\\xad\\x01\\x00\\x00X\\x07\\x00\\x00\\x00modulesr\\xae\\x01\\x00\\x00XT\\x00\\x00\\x00fastq_screen,cellranger,starsolo,fastp,fastqc_rnaseq,custom_content,cellranger_countr\\xaf\\x01\\x00\\x00sX\\x08\\x00\\x00\\x00smallrnar\\xb0\\x01\\x00\\x00}r\\xb1\\x01\\x00\\x00X\\x07\\x00\\x00\\x00modulesr\\xb2\\x01\\x00\\x00XB\\x00\\x00\\x00fastq_screen,star,picard,fastp,fastqc_rnaseq,unitas,custom_contentr\\xb3\\x01\\x00\\x00sX\\x07\\x00\\x00\\x00defaultr\\xb4\\x01\\x00\\x00}r\\xb5\\x01\\x00\\x00X\\x07\\x00\\x00\\x00modulesr\\xb6\\x01\\x00\\x00X/\\x00\\x00\\x00fastq_screen,fastp,fastqc_rnaseq,custom_contentr\\xb7\\x01\\x00\\x00suX\\x05\\x00\\x00\\x00proxyr\\xb8\\x01\\x00\\x00}r\\xb9\\x01\\x00\\x00(X\\x04\\x00\\x00\\x00wgetr\\xba\\x01\\x00\\x00X\\x97\\x00\\x00\\x00-e use_proxy=yes -e http_proxy=gcf-proxy.medisin.ntnu.no:8080 -e https_proxy=gcf-proxy.medisin.ntnu.no:8080 -e ftp_proxy=gcf-proxy.medisin.ntnu.no:8080r\\xbb\\x01\\x00\\x00X\\x05\\x00\\x00\\x00rsyncr\\xbc\\x01\\x00\\x00j&\\x01\\x00\\x00X\\x04\\x00\\x00\\x00curlr\\xbd\\x01\\x00\\x00X\\'\\x00\\x00\\x00--proxy gcf-proxy.medisin.ntnu.no:8080 r\\xbe\\x01\\x00\\x00X\\x06\\x00\\x00\\x00serverr\\xbf\\x01\\x00\\x00}r\\xc0\\x01\\x00\\x00(X\\x04\\x00\\x00\\x00httpr\\xc1\\x01\\x00\\x00X%\\x00\\x00\\x00http://gcf-proxy.medisin.ntnu.no:8080r\\xc2\\x01\\x00\\x00X\\x05\\x00\\x00\\x00httpsr\\xc3\\x01\\x00\\x00X%\\x00\\x00\\x00http://gcf-proxy.medisin.ntnu.no:8080r\\xc4\\x01\\x00\\x00X\\x03\\x00\\x00\\x00ftpr\\xc5\\x01\\x00\\x00X%\\x00\\x00\\x00http://gcf-proxy.medisin.ntnu.no:8080r\\xc6\\x01\\x00\\x00uuX\\x0c\\x00\\x00\\x00libprep_namer\\xc7\\x01\\x00\\x00XE\\x00\\x00\\x0010X_Genomics_Chromium_Single_Cell_3p_GEM_Library_&_Gel_Bead_Kit_v3_PEr\\xc8\\x01\\x00\\x00X\\x08\\x00\\x00\\x00workflowr\\xc9\\x01\\x00\\x00X\\n\\x00\\x00\\x00singlecellr\\xca\\x01\\x00\\x00X\\x06\\x00\\x00\\x00dockerr\\xcb\\x01\\x00\\x00}r\\xcc\\x01\\x00\\x00(X\\x07\\x00\\x00\\x00defaultr\\xcd\\x01\\x00\\x00X \\x00\\x00\\x00gcfntnu/python-base-conda:4.10.3r\\xce\\x01\\x00\\x00X\\x04\\x00\\x00\\x00ivarr\\xcf\\x01\\x00\\x00X\\x12\\x00\\x00\\x00gcfntnu/ivar:1.3.1r\\xd0\\x01\\x00\\x00X\\x0c\\x00\\x00\\x00bwa_samtoolsr\\xd1\\x01\\x00\\x00X\\x1b\\x00\\x00\\x00gcfntnu/bwa_samtools:0.7.17r\\xd2\\x01\\x00\\x00X\\x08\\x00\\x00\\x00bedtoolsr\\xd3\\x01\\x00\\x00X\"\\x00\\x00\\x00biocontainers/bedtools:v2.28.0_cv2r\\xd4\\x01\\x00\\x00X\\n\\x00\\x00\\x00primerclipr\\xd5\\x01\\x00\\x00X\\x18\\x00\\x00\\x00gcfntnu/primerclip:0.3.8r\\xd6\\x01\\x00\\x00X\\x05\\x00\\x00\\x00fastvr\\xd7\\x01\\x00\\x00X\\x13\\x00\\x00\\x00gcfntnu/fastv:0.8.1r\\xd8\\x01\\x00\\x00X\\t\\x00\\x00\\x00bioseqzipr\\xd9\\x01\\x00\\x00X\\x18\\x00\\x00\\x00gcfntnu/bioseqzip:latestr\\xda\\x01\\x00\\x00X\\x06\\x00\\x00\\x00fastqcr\\xdb\\x01\\x00\\x00X \\x00\\x00\\x00biocontainers/fastqc:v0.11.9_cv7r\\xdc\\x01\\x00\\x00X\\x0c\\x00\\x00\\x00fastq-screenr\\xdd\\x01\\x00\\x00X2\\x00\\x00\\x00quay.io/biocontainers/fastq-screen:0.14.0--pl526_0r\\xde\\x01\\x00\\x00X\\x07\\x00\\x00\\x00multiqcr\\xdf\\x01\\x00\\x00X\\x16\\x00\\x00\\x00gcfntnu/multiqc:1.8devr\\xe0\\x01\\x00\\x00X\\x06\\x00\\x00\\x00hisat2r\\xe1\\x01\\x00\\x00X2\\x00\\x00\\x00quay.io/biocontainers/hisat2:2.1.0--py36h2d50403_1r\\xe2\\x01\\x00\\x00X\\x06\\x00\\x00\\x00bowtier\\xe3\\x01\\x00\\x00X\\x1f\\x00\\x00\\x00biocontainers/bowtie:v1.1.2_cv4r\\xe4\\x01\\x00\\x00X\\x0f\\x00\\x00\\x00bowtie_samtoolsr\\xe5\\x01\\x00\\x00X\\x1d\\x00\\x00\\x00gcfntnu/bowtie_samtools:1.2.3r\\xe6\\x01\\x00\\x00X\\x07\\x00\\x00\\x00bowtie2r\\xe7\\x01\\x00\\x00X(\\x00\\x00\\x00biocontainers/bowtie2:v2.3.4.3-1-deb_cv1r\\xe8\\x01\\x00\\x00X\\x10\\x00\\x00\\x00bowtie2_samtoolsr\\xe9\\x01\\x00\\x00X\\x1e\\x00\\x00\\x00gcfntnu/bowtie2_samtools:2.3.5r\\xea\\x01\\x00\\x00X\\x05\\x00\\x00\\x00bbmapr\\xeb\\x01\\x00\\x00X-\\x00\\x00\\x00quay.io/biocontainers/bbmap:38.75--h516909a_0r\\xec\\x01\\x00\\x00X\\x04\\x00\\x00\\x00starr\\xed\\x01\\x00\\x00X\\x13\\x00\\x00\\x00gcfntnu/star:2.7.9ar\\xee\\x01\\x00\\x00X\\n\\x00\\x00\\x00quikmirseqr\\xef\\x01\\x00\\x00X\\x17\\x00\\x00\\x00gcfntnu/quickmirseq:1.0r\\xf0\\x01\\x00\\x00X\\x08\\x00\\x00\\x00tximportr\\xf1\\x01\\x00\\x00X\\x17\\x00\\x00\\x00gcfntnu/tximport:1.18.0r\\xf2\\x01\\x00\\x00X\\n\\x00\\x00\\x00cellrangerr\\xf3\\x01\\x00\\x00X\\x18\\x00\\x00\\x00gcfntnu/cellranger:6.0.2r\\xf4\\x01\\x00\\x00X\\x05\\x00\\x00\\x00mirger\\xf5\\x01\\x00\\x00X\\x11\\x00\\x00\\x00gcfntnu/mirge:2.0r\\xf6\\x01\\x00\\x00X\\x06\\x00\\x00\\x00unitasr\\xf7\\x01\\x00\\x00X\\x14\\x00\\x00\\x00gcfntnu/unitas:1.7.5r\\xf8\\x01\\x00\\x00X\\x08\\x00\\x00\\x00sambambar\\xf9\\x01\\x00\\x00X\\x14\\x00\\x00\\x00gcfntnu/sambamba:0.7r\\xfa\\x01\\x00\\x00X\\x06\\x00\\x00\\x00salmonr\\xfb\\x01\\x00\\x00X\\x14\\x00\\x00\\x00gcfntnu/salmon:1.5.2r\\xfc\\x01\\x00\\x00X\\x07\\x00\\x00\\x00subreadr\\xfd\\x01\\x00\\x00X/\\x00\\x00\\x00quay.io/biocontainers/subread:1.6.3--h84994c4_1r\\xfe\\x01\\x00\\x00X\\x05\\x00\\x00\\x00rseqcr\\xff\\x01\\x00\\x00X1\\x00\\x00\\x00quay.io/biocontainers/rseqc:3.0.0--py36hf8a1672_0r\\x00\\x02\\x00\\x00X\\x06\\x00\\x00\\x00preseqr\\x01\\x02\\x00\\x00X.\\x00\\x00\\x00quay.io/biocontainers/preseq:2.0.3--hf53bd2b_3r\\x02\\x02\\x00\\x00X\\x08\\x00\\x00\\x00samtoolsr\\x03\\x02\\x00\\x00X\\x12\\x00\\x00\\x00kfdrc/samtools:1.9r\\x04\\x02\\x00\\x00X\\x0b\\x00\\x00\\x00picard_gatkr\\x05\\x02\\x00\\x00X\\x15\\x00\\x00\\x00gcfntnu/picard:2.21.5r\\x06\\x02\\x00\\x00X\\x05\\x00\\x00\\x00qortsr\\x07\\x02\\x00\\x00X)\\x00\\x00\\x00quay.io/biocontainers/qorts:1.3.0--py35_0r\\x08\\x02\\x00\\x00X\\x06\\x00\\x00\\x00bedopsr\\t\\x02\\x00\\x00X\\x13\\x00\\x00\\x00kfdrc/bedops:2.4.36r\\n\\x02\\x00\\x00X\\x0c\\x00\\x00\\x00ucsc-scriptsr\\x0b\\x02\\x00\\x00X\\x1b\\x00\\x00\\x00gcfntnu/ucsc-scripts:latestr\\x0c\\x02\\x00\\x00X\\x05\\x00\\x00\\x00fastpr\\r\\x02\\x00\\x00X\\x1f\\x00\\x00\\x00biocontainers/fastp:v0.20.1_cv1r\\x0e\\x02\\x00\\x00X\\x08\\x00\\x00\\x00qualimapr\\x0f\\x02\\x00\\x00X(\\x00\\x00\\x00quay.io/biocontainers/qualimap:2.2.2d--1r\\x10\\x02\\x00\\x00X\\x08\\x00\\x00\\x00mirtracer\\x11\\x02\\x00\\x00X\\x16\\x00\\x00\\x00gcfntnu/mirtrace:1.0.1r\\x12\\x02\\x00\\x00X\\t\\x00\\x00\\x00stringtier\\x13\\x02\\x00\\x00X/\\x00\\x00\\x00quay.io/biocontainers/stringtie:2.0--hc900ff6_0r\\x14\\x02\\x00\\x00X\\x04\\x00\\x00\\x00tacor\\x15\\x02\\x00\\x00X\\x12\\x00\\x00\\x00gcfntnu/taco:0.7.3r\\x16\\x02\\x00\\x00X\\x07\\x00\\x00\\x00scallopr\\x17\\x02\\x00\\x00X\\x16\\x00\\x00\\x00gcfntnu/scallop:0.10.4r\\x18\\x02\\x00\\x00X\\t\\x00\\x00\\x00sambamabar\\x19\\x02\\x00\\x00X0\\x00\\x00\\x00quay.io/biocontainers/sambamba:0.7.1--h148d290_0r\\x1a\\x02\\x00\\x00X\\n\\x00\\x00\\x00gffcomparer\\x1b\\x02\\x00\\x00X3\\x00\\x00\\x00quay.io/biocontainers/gffcompare:0.11.2--h6bb024c_0r\\x1c\\x02\\x00\\x00X\\x07\\x00\\x00\\x00gffreadr\\x1d\\x02\\x00\\x00X0\\x00\\x00\\x00quay.io/biocontainers/gffread:0.11.6--h8b12597_0r\\x1e\\x02\\x00\\x00X\\t\\x00\\x00\\x00pyensemblr\\x1f\\x02\\x00\\x00X+\\x00\\x00\\x00quay.io/biocontainers/pyensembl:1.8.4--py_0r \\x02\\x00\\x00X\\x04\\x00\\x00\\x00rsemr!\\x02\\x00\\x00X1\\x00\\x00\\x00quay.io/biocontainers/rsem:1.3.2--pl526ha52163a_1r\"\\x02\\x00\\x00X\\r\\x00\\x00\\x00entrez-directr#\\x02\\x00\\x00X\\x1a\\x00\\x00\\x00gcfntnu/entrez_direct:11.0r$\\x02\\x00\\x00X\\x0b\\x00\\x00\\x00quickmirseqr%\\x02\\x00\\x00X\\x17\\x00\\x00\\x00gcfntnu/quickmirseq:1.0r&\\x02\\x00\\x00X\\t\\x00\\x00\\x00sortmernar\\'\\x02\\x00\\x00X0\\x00\\x00\\x00quay.io/biocontainers/sortmerna:2.1b--he860b03_4r(\\x02\\x00\\x00X\\x08\\x00\\x00\\x00sartoolsr)\\x02\\x00\\x00X\\x16\\x00\\x00\\x00gcfntnu/sartools:1.7.3r*\\x02\\x00\\x00X\\x07\\x00\\x00\\x00atroposr+\\x02\\x00\\x00X\\x16\\x00\\x00\\x00jdidion/atropos:latestr,\\x02\\x00\\x00X\\r\\x00\\x00\\x00fastx_toolkitr-\\x02\\x00\\x00X6\\x00\\x00\\x00quay.io/biocontainers/fastx_toolkit:0.0.14--he1b5a44_8r.\\x02\\x00\\x00X\\x08\\x00\\x00\\x00bfq_plotr/\\x02\\x00\\x00X\\x14\\x00\\x00\\x00gcfntnu/bfq_plot:0.1r0\\x02\\x00\\x00X\\x06\\x00\\x00\\x00qiime2r1\\x02\\x00\\x00X\\x16\\x00\\x00\\x00gcfntnu/qiime2:2019.10r2\\x02\\x00\\x00X\\n\\x00\\x00\\x00fastq_pairr3\\x02\\x00\\x00X\\x16\\x00\\x00\\x00gcfntnu/fastq_pair:0.3r4\\x02\\x00\\x00X\\x06\\x00\\x00\\x00scanpyr5\\x02\\x00\\x00X\\x14\\x00\\x00\\x00gcfntnu/scanpy:1.7.0r6\\x02\\x00\\x00X\\x06\\x00\\x00\\x00seuratr7\\x02\\x00\\x00X\\x18\\x00\\x00\\x00gcfntnu/seurat:dev-3.0.1r8\\x02\\x00\\x00X\\t\\x00\\x00\\x00umi_toolsr9\\x02\\x00\\x00X5\\x00\\x00\\x00quay.io/biocontainers/umi_tools:1.1.1--py38h0213d0e_1r:\\x02\\x00\\x00X\\x08\\x00\\x00\\x00velocytor;\\x02\\x00\\x00X\\x18\\x00\\x00\\x00gcfntnu/velocyto:0.17.17r<\\x02\\x00\\x00X\\x0b\\x00\\x00\\x00cellbrowserr=\\x02\\x00\\x00X\\x1a\\x00\\x00\\x00gcfntnu/cellbrowser:latestr>\\x02\\x00\\x00X\\x08\\x00\\x00\\x00phyloseqr?\\x02\\x00\\x00X\\x17\\x00\\x00\\x00gcfntnu/phyloseq:1.28.0r@\\x02\\x00\\x00X\\x0e\\x00\\x00\\x00jupyter-scanpyrA\\x02\\x00\\x00X)\\x00\\x00\\x00gcfntnu/scanpy-jupyterlab:1.7.0-snakemakerB\\x02\\x00\\x00X\\x06\\x00\\x00\\x00seqkitrC\\x02\\x00\\x00X\\x14\\x00\\x00\\x00pegi3s/seqkit:0.12.1rD\\x02\\x00\\x00X\\x08\\x00\\x00\\x00cutadaptrE\\x02\\x00\\x00X\\x14\\x00\\x00\\x00gcfntnu/cutadapt:3.3rF\\x02\\x00\\x00X\\x12\\x00\\x00\\x00jupyter-diff-exprsrG\\x02\\x00\\x00X!\\x00\\x00\\x00gcfntnu/jupyterlab-diff-exprs:1.2rH\\x02\\x00\\x00X\\x10\\x00\\x00\\x00jupyter-co-exprsrI\\x02\\x00\\x00X\\x1f\\x00\\x00\\x00gcfntnu/jupyterlab-co-exprs:1.0rJ\\x02\\x00\\x00X\\x0e\\x00\\x00\\x00jupyter-rnaseqrK\\x02\\x00\\x00X\\x1d\\x00\\x00\\x00gcfntnu/jupyterlab-rnaseq:1.3rL\\x02\\x00\\x00X\\x07\\x00\\x00\\x00gcf-biorM\\x02\\x00\\x00X\\x13\\x00\\x00\\x00gcfntnu/gcf-bio:1.0rN\\x02\\x00\\x00X\\t\\x00\\x00\\x00bcl2fastqrO\\x02\\x00\\x00X\\x18\\x00\\x00\\x00gcfntnu/bcl2fastq:2.20.0rP\\x02\\x00\\x00X\\x0f\\x00\\x00\\x00cellranger-atacrQ\\x02\\x00\\x00X\\x1d\\x00\\x00\\x00gcfntnu/cellranger-atac:2.0.0rR\\x02\\x00\\x00X\\x0b\\x00\\x00\\x00spacerangerrS\\x02\\x00\\x00X\\x19\\x00\\x00\\x00gcfntnu/spaceranger:1.3.0rT\\x02\\x00\\x00uX\\x0c\\x00\\x00\\x00base_ref_dirrU\\x02\\x00\\x00XB\\x00\\x00\\x00/mnt/archive/ext_cache/ext/ensembl/release-104/mus_musculus/GRCm39rV\\x02\\x00\\x00uX\\x04\\x00\\x00\\x00rulerW\\x02\\x00\\x00X\\x0f\\x00\\x00\\x00scanpy_pp_ipynbrX\\x02\\x00\\x00X\\x0f\\x00\\x00\\x00bench_iterationrY\\x02\\x00\\x00NX\\t\\x00\\x00\\x00scriptdirrZ\\x02\\x00\\x00Xd\\x00\\x00\\x00/mnt/work/geiramh/dev/gcf-workflows-starsolo-upadte/src/gcf-workflows/singlecell/rules/quant/scriptsr[\\x02\\x00\\x00ub.'); from snakemake.logging import logger; logger.printshellcmds = True; import os; os.chdir('/mnt/work/geiramh/dev/gcf-workflows-starsolo-upadte');\n",
    "######## snakemake preamble end #########\n"
   ]
  },
  {
   "cell_type": "code",
   "execution_count": null,
   "metadata": {},
   "outputs": [],
   "source": [
    "import scanpy as sc\n",
    "import numpy as np\n",
    "import pandas as pd"
   ]
  },
  {
   "cell_type": "code",
   "execution_count": null,
   "metadata": {
    "jupyter": {
     "outputs_hidden": false
    }
   },
   "outputs": [],
   "source": [
    "sc.settings.verbosity = 3  # verbosity: errors (0), warnings (1), info (2), hints (3)\n",
    "sc.settings.set_figure_params(dpi=80)  # low dpi (dots per inch) yields small inline figures\n",
    "sc.logging.print_version_and_date()\n",
    "sc.set_figure_params(figsize=(12,12))"
   ]
  },
  {
   "cell_type": "code",
   "execution_count": null,
   "metadata": {
    "jupyter": {
     "outputs_hidden": false
    }
   },
   "outputs": [],
   "source": [
    "adata = sc.read_h5ad(snakemake.input[0])"
   ]
  },
  {
   "cell_type": "code",
   "execution_count": null,
   "metadata": {},
   "outputs": [],
   "source": [
    "adata.var_names_make_unique()"
   ]
  },
  {
   "cell_type": "code",
   "execution_count": null,
   "metadata": {},
   "outputs": [],
   "source": [
    "sc.pp.filter_cells(adata, min_genes=500)\n",
    "sc.pp.filter_genes(adata, min_cells=5)"
   ]
  },
  {
   "cell_type": "code",
   "execution_count": null,
   "metadata": {},
   "outputs": [],
   "source": [
    "adata = adata[~adata.obs['predicted_doublets'],:]"
   ]
  },
  {
   "cell_type": "code",
   "execution_count": null,
   "metadata": {},
   "outputs": [],
   "source": [
    "adata.var.head()"
   ]
  },
  {
   "cell_type": "code",
   "execution_count": null,
   "metadata": {},
   "outputs": [],
   "source": [
    "data = adata"
   ]
  },
  {
   "cell_type": "code",
   "execution_count": null,
   "metadata": {},
   "outputs": [],
   "source": [
    "data.var['mt'] = data.var[\"gene_symbols\"].str.lower().str.startswith('mt-').astype(bool)  # annotate the group of mitochondrial genes as 'mt'\n",
    "sc.pp.calculate_qc_metrics(data, qc_vars=['mt'], percent_top=None, log1p=False, inplace=True)"
   ]
  },
  {
   "cell_type": "code",
   "execution_count": null,
   "metadata": {},
   "outputs": [],
   "source": [
    "data.obs.head()"
   ]
  },
  {
   "cell_type": "code",
   "execution_count": null,
   "metadata": {},
   "outputs": [],
   "source": [
    "sc.pl.violin(data, ['n_genes', 'n_counts', 'pct_counts_mt'],\n",
    "             jitter=0.4, multi_panel=True)"
   ]
  },
  {
   "cell_type": "code",
   "execution_count": null,
   "metadata": {},
   "outputs": [],
   "source": [
    "sc.pl.scatter(data, x='n_counts', y='pct_counts_mt')\n",
    "sc.pl.scatter(data, x='n_counts', y='n_genes')"
   ]
  },
  {
   "cell_type": "code",
   "execution_count": null,
   "metadata": {},
   "outputs": [],
   "source": [
    "data = data[data.obs['pct_counts_mt'] < 15,:]\n",
    "#data = data[data.obs['n_counts'] > 1e3,:]\n",
    "data = data[data.obs['n_counts'] < 25e3,:]\n",
    "sc.pl.scatter(data, x='n_counts', y='pct_counts_mt')\n",
    "sc.pl.scatter(data, x='n_counts', y='n_genes')"
   ]
  },
  {
   "cell_type": "code",
   "execution_count": null,
   "metadata": {},
   "outputs": [],
   "source": [
    "sc.pl.violin(data, ['n_genes', 'n_counts', 'pct_counts_mt'],\n",
    "             jitter=0.4, multi_panel=True, save=\"_post_filter.pdf\")"
   ]
  },
  {
   "cell_type": "code",
   "execution_count": null,
   "metadata": {},
   "outputs": [],
   "source": [
    "data"
   ]
  },
  {
   "cell_type": "code",
   "execution_count": null,
   "metadata": {},
   "outputs": [],
   "source": [
    "data.obs[\"n_counts\"].mean()"
   ]
  },
  {
   "cell_type": "code",
   "execution_count": null,
   "metadata": {},
   "outputs": [],
   "source": [
    "sc.pp.normalize_per_cell(data, counts_per_cell_after=1e6)\n",
    "sc.pl.highest_expr_genes(data, n_top=10, gene_symbols='gene_symbols')"
   ]
  },
  {
   "cell_type": "code",
   "execution_count": null,
   "metadata": {},
   "outputs": [],
   "source": [
    "sc.pp.log1p(data)"
   ]
  },
  {
   "cell_type": "code",
   "execution_count": null,
   "metadata": {},
   "outputs": [],
   "source": [
    "sc.pp.highly_variable_genes(data, n_top_genes=3000)"
   ]
  },
  {
   "cell_type": "code",
   "execution_count": null,
   "metadata": {},
   "outputs": [],
   "source": [
    "sc.pl.highly_variable_genes(data)"
   ]
  },
  {
   "cell_type": "code",
   "execution_count": null,
   "metadata": {},
   "outputs": [],
   "source": []
  },
  {
   "cell_type": "code",
   "execution_count": null,
   "metadata": {},
   "outputs": [],
   "source": [
    "sc.tl.pca(data)"
   ]
  },
  {
   "cell_type": "code",
   "execution_count": null,
   "metadata": {},
   "outputs": [],
   "source": [
    "sc.pl.pca_scatter(data, color=['n_counts', 'n_genes','pct_counts_mt'])"
   ]
  },
  {
   "cell_type": "code",
   "execution_count": null,
   "metadata": {},
   "outputs": [],
   "source": [
    "sc.pp.neighbors(data, n_pcs = 30)\n",
    "sc.tl.louvain(data)\n",
    "sc.tl.umap(data)"
   ]
  },
  {
   "cell_type": "code",
   "execution_count": null,
   "metadata": {
    "scrolled": true
   },
   "outputs": [],
   "source": [
    "sc.pl.umap(data, color=['n_counts', 'n_genes','pct_counts_mt'], s=50)"
   ]
  },
  {
   "cell_type": "code",
   "execution_count": null,
   "metadata": {},
   "outputs": [],
   "source": [
    "data.write(snakemake.output[0])"
   ]
  },
  {
   "cell_type": "code",
   "execution_count": null,
   "metadata": {},
   "outputs": [],
   "source": []
  }
 ],
 "metadata": {
  "kernelspec": {
   "display_name": "Python 3",
   "language": "python",
   "name": "python3"
  },
  "language_info": {
   "codemirror_mode": {
    "name": "ipython",
    "version": 3
   },
   "file_extension": ".py",
   "mimetype": "text/x-python",
   "name": "python",
   "nbconvert_exporter": "python",
   "pygments_lexer": "ipython3",
   "version": "3.8.6"
  }
 },
 "nbformat": 4,
 "nbformat_minor": 4
}
