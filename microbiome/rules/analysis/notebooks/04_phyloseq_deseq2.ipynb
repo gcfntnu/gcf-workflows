{
 "cells": [
  {
   "cell_type": "markdown",
   "metadata": {},
   "source": [
    "04 .Differential expression using DESeq2\n",
    "========================================\n",
    " The analysis process includes three main steps, namely normalization, dispersion estimation and test for differential expression."
   ]
  },
  {
   "cell_type": "code",
   "execution_count": 1,
   "metadata": {},
   "outputs": [],
   "source": [
    "library(phyloseq)\n",
    "library(ggplot2)\n",
    "library(scales)\n",
    "library(gridExtra)\n",
    "suppressPackageStartupMessages(library(DESeq2))\n"
   ]
  },
  {
   "cell_type": "code",
   "execution_count": 3,
   "metadata": {},
   "outputs": [],
   "source": [
    "#rds <- readRDS(\"../../../../../data/tmp/microbiome/quant/qiime2/silva/physeq.rds\")\n"
   ]
  },
  {
   "cell_type": "code",
   "execution_count": null,
   "metadata": {},
   "outputs": [],
   "source": [
    "rds <- readRDS(snakemake@input[[1]])"
   ]
  },
  {
   "cell_type": "code",
   "execution_count": 4,
   "metadata": {},
   "outputs": [
    {
     "ename": "ERROR",
     "evalue": "Error in `[.data.frame`(df, , snakemake@params$condition): object 'snakemake' not found\n",
     "output_type": "error",
     "traceback": [
      "Error in `[.data.frame`(df, , snakemake@params$condition): object 'snakemake' not found\nTraceback:\n",
      "1. factor(df[, snakemake@params$condition])",
      "2. df[, snakemake@params$condition]",
      "3. `[.data.frame`(df, , snakemake@params$condition)"
     ]
    }
   ],
   "source": [
    "\n",
    "df <- data.frame(as(sample_data(rds), \"matrix\"))\n",
    "group <- factor(df[,snakemake@params$condition])\n",
    "cat(\"Condition: \", snakemake@params$condition, \"\\n\")\n",
    "cat(\"Summary:\\n\")\n",
    "print(summary(group))\n",
    "if (!is.null(snakemake@params$ref_level)){\n",
    "    cat(\"Setting\", snakemake@params$ref_level, \"as reference level\", \"\\n\")\n",
    "    group <- relevel(group, ref=snakemake@params$ref_level)\n",
    "}\n",
    "df[,\"Sample_Group\"] <- group\n",
    "sample_data(rds) <- df\n",
    "\n",
    "block <- NULL\n",
    "if (!is.null(snakemake@params$block)){\n",
    "    print(cat(\"\\nBlocking factor given as: \", snakemake@params$block, \"\\n\"))\n",
    "    block <- factor(df[,snakemake@params$block])\n",
    "    print(summary(block))\n",
    "    df[,snakemake@params$block] <- block\n",
    "    sample_data(rds) <- df\n",
    "}\n"
   ]
  },
  {
   "cell_type": "code",
   "execution_count": null,
   "metadata": {},
   "outputs": [],
   "source": [
    "if (!is.null(snakemake@params$taxrank)){\n",
    "    cat(\"Taxrank: \", snakemake@params$taxrank, \"\\n\")\n",
    "    if (require(speedyseq)){\n",
    "        rds <- speedyseq::tax_glom(rds, taxrank=snakemake@params$taxrank)\n",
    "    } else{\n",
    "        rds <- tax_glom(rds, taxrank=snakemake@params$taxrank)\n",
    "    } \n",
    "} else{\n",
    "    cat(\"Taxrank: None, Data is not aggregated. Each feature is an ASV (specific sequence)\", \"\\n\")\n",
    "}\n",
    "rds"
   ]
  },
  {
   "cell_type": "code",
   "execution_count": null,
   "metadata": {},
   "outputs": [],
   "source": [
    "\n",
    "#if (!is.null(snakemake@params$independent_filtering)){\n",
    "#    if (snakemake@params$independent_filtering == TRUE){\n",
    "#        rds <- filter_taxa(rds, function(x) sum(x>0) > 10, TRUE)\n",
    "#    }\n",
    "#}\n",
    "\n"
   ]
  },
  {
   "cell_type": "code",
   "execution_count": null,
   "metadata": {},
   "outputs": [],
   "source": [
    "counts <- as(otu_table(rds), \"matrix\")\n",
    "head(counts)\n",
    "df <- data.frame(as(sample_data(rds), \"matrix\"))"
   ]
  },
  {
   "cell_type": "code",
   "execution_count": null,
   "metadata": {},
   "outputs": [],
   "source": [
    "\n",
    "fun_summary=function(x){\n",
    "  out=c(quantile(x,c(0,0.25,0.5),type=1),mean(x),quantile(x,c(0.75,1),type=1))\n",
    "  names(out)=c(\"Min.\",\"1st Qu.\",\"Median\",\"Mean\",\"3rd Qu.\",\"Max.\")\n",
    "  return(round(out,0))\n",
    "}\n",
    "t(apply(counts, 2, fun_summary))"
   ]
  },
  {
   "cell_type": "code",
   "execution_count": null,
   "metadata": {},
   "outputs": [],
   "source": [
    " if (utils::packageVersion(\"ggplot2\") >= \"3.3.0\") expand_scale <- expansion\n",
    "barplotTotal <- function(counts, group, col=c(\"lightblue\",\"orange\",\"MediumVioletRed\",\"SpringGreen\"), outfile=TRUE){\n",
    "  if (outfile) png(filename=\"figures/barplotTotal.png\", width=min(3600, 1800+800*ncol(counts)/10), height=1800, res=300)\n",
    "  d <- data.frame(tc=colSums(counts)/1e3, sample=factor(colnames(counts), colnames(counts)), group)\n",
    "  print(ggplot(d, aes(x=.data$sample, y=.data$tc, fill=.data$group)) +\n",
    "          geom_bar(stat=\"identity\", show.legend=TRUE) +\n",
    "          labs(fill=\"\") +\n",
    "          scale_fill_manual(values=col) +\n",
    "          xlab(\"Samples\") + \n",
    "          ylab(\"Total read count (thousands)\") +\n",
    "          scale_y_continuous(expand=expand_scale(mult=c(0.01, 0.05))) +\n",
    "          ggtitle(\"Total read count per sample (million)\") +\n",
    "          theme(axis.text.x=element_text(angle=90, hjust=1, vjust=0.5)))\n",
    "  if (outfile) dev.off()\n",
    "}"
   ]
  },
  {
   "cell_type": "code",
   "execution_count": null,
   "metadata": {},
   "outputs": [],
   "source": [
    "barplotTotal(counts, df$Sample_Group, outfile=FALSE)"
   ]
  },
  {
   "cell_type": "code",
   "execution_count": null,
   "metadata": {},
   "outputs": [],
   "source": [
    "gm_mean = function(x, na.rm=TRUE){\n",
    "    exp(sum(log(x[x > 0]), na.rm=na.rm) / length(x))\n",
    "}\n"
   ]
  },
  {
   "cell_type": "code",
   "execution_count": null,
   "metadata": {},
   "outputs": [],
   "source": [
    "if (!is.null(snakemake@params$block)){\n",
    "    Sample_Group <- group\n",
    "    des <- model.matrix(~block + Sample_Group)\n",
    "    dds = phyloseq_to_deseq2(rds, design=des)\n",
    "    } else{\n",
    "    dds = phyloseq_to_deseq2(rds, design=~Sample_Group)\n",
    "    }\n",
    "\n",
    "geoMeans = apply(counts(dds), 1, gm_mean)\n",
    "dds = estimateSizeFactors(dds, geoMeans=geoMeans)\n",
    "de = DESeq(dds)\n",
    "\n"
   ]
  },
  {
   "cell_type": "code",
   "execution_count": null,
   "metadata": {},
   "outputs": [],
   "source": [
    "countsBoxplots <- function(object, group, col = c(\"lightblue\",\"orange\",\"MediumVioletRed\",\"SpringGreen\"), outfile=TRUE){\n",
    "  if (class(object)==\"DESeqDataSet\"){\n",
    "    counts <- counts(object)\n",
    "    #counts <- removeNull(counts)\n",
    "    norm.counts <- counts(object, normalized=TRUE)\n",
    "    #norm.counts <- removeNull(norm.counts)  \n",
    "  } else{\n",
    "    counts <- object$counts\n",
    "    #counts <- removeNull(counts)\n",
    "    tmm <- object$samples$norm.factors\n",
    "    N <- colSums(object$counts)\n",
    "    f <- tmm * N/mean(tmm * N)\n",
    "    norm.counts <- scale(object$counts, center=FALSE, scale=f)\n",
    "    #norm.counts <- removeNull(norm.counts)    \n",
    "  }\n",
    "\n",
    "  if (outfile) png(filename=\"figures/countsBoxplots.png\", width=2*min(2200, 1800+800*ncol(norm.counts)/10), height=1800, res=300)\n",
    "  d <- stack(as.data.frame(counts))\n",
    "  d$group <- rep(group, each=nrow(counts))\n",
    "  p1 <- ggplot(d) + \n",
    "    geom_boxplot(aes(x=.data$ind, y=.data$values+1, fill=.data$group), show.legend=TRUE) +\n",
    "    labs(fill=\"\") +\n",
    "    scale_y_continuous(trans = log10_trans(),\n",
    "                       breaks = trans_breaks(\"log10\", function(x) 10^x),\n",
    "                       labels = trans_format(\"log10\", math_format(~10^.x))) +\n",
    "    scale_fill_manual(values=col) +\n",
    "    xlab(\"Samples\") +\n",
    "    ylab(\"Raw counts\") +\n",
    "    ggtitle(\"Raw counts distribution\") +\n",
    "    theme(axis.text.x=element_text(angle=90, hjust=1, vjust=0.5))\n",
    "  \n",
    "  d <- stack(as.data.frame(norm.counts))\n",
    "  d$group <- rep(group, each=nrow(norm.counts))\n",
    "  p2 <- ggplot(d) + \n",
    "    geom_boxplot(aes(x=.data$ind, y=.data$values+1, fill=.data$group), show.legend=TRUE) +\n",
    "    labs(fill=\"\") +\n",
    "    scale_y_continuous(trans = log10_trans(),\n",
    "                       breaks = trans_breaks(\"log10\", function(x) 10^x),\n",
    "                       labels = trans_format(\"log10\", math_format(~10^.x))) +\n",
    "    scale_fill_manual(values=col) +\n",
    "    xlab(\"Samples\") +\n",
    "    ylab(\"Normalized counts\") +\n",
    "    ggtitle(\"Normalized counts distribution\") +\n",
    "    theme(axis.text.x=element_text(angle=90, hjust=1, vjust=0.5))\n",
    "  \n",
    "  grid.arrange(p1, p2, nrow=2, ncol=1)\n",
    "  if (outfile) dev.off()\n",
    "    \n",
    "}"
   ]
  },
  {
   "cell_type": "code",
   "execution_count": null,
   "metadata": {},
   "outputs": [],
   "source": [
    "countsBoxplots(de, df$Sample_Group, outfile=FALSE)"
   ]
  },
  {
   "cell_type": "code",
   "execution_count": null,
   "metadata": {},
   "outputs": [],
   "source": [
    "densityPlot <- function(counts, group, col=c(\"lightblue\",\"orange\",\"MediumVioletRed\",\"SpringGreen\"), outfile=TRUE){\n",
    "  if (outfile) png(filename=\"figures/densplot.png\", width=2000, height=1800, res=300)\n",
    "    #counts <- removeNull(counts)\n",
    "    d <- stack(data.frame(counts))\n",
    "    d$group <- rep(group, each=nrow(counts))\n",
    "    print(ggplot(d, aes(x=.data$values+1)) +\n",
    "            stat_density(aes(group=.data$ind, color=.data$group), position=\"identity\", geom=\"line\", show.legend=TRUE) +\n",
    "            scale_x_continuous(trans = log10_trans(),\n",
    "                               breaks = trans_breaks(\"log10\", function(x) 10^x),\n",
    "                               labels = trans_format(\"log10\", math_format(~10^.x))) +\n",
    "            labs(color=\"\") +\n",
    "            scale_colour_manual(values=col) +\n",
    "            xlab(\"Raw counts\") +\n",
    "            ylab(\"Density\") +\n",
    "            ggtitle(\"Density of counts distribution\"))\n",
    "  if (outfile) dev.off()\n",
    "}"
   ]
  },
  {
   "cell_type": "code",
   "execution_count": null,
   "metadata": {},
   "outputs": [],
   "source": [
    "densityPlot(counts, df$Sample_Group, outfile=FALSE)"
   ]
  },
  {
   "cell_type": "code",
   "execution_count": null,
   "metadata": {},
   "outputs": [],
   "source": [
    "majSequences <- function(rds, n=3, group, taxrank=\"Species\", col=c(\"lightblue\",\"orange\",\"MediumVioletRed\",\"SpringGreen\"), outfile=TRUE){\n",
    "  counts <- as(otu_table(rds), \"matrix\")\n",
    "  seqnames <- apply(counts, 2, function(x){x <- sort(x, decreasing=TRUE); names(x)[1:n]})\n",
    "  seqnames <- unique(unlist(as.character(seqnames)))\n",
    "\n",
    "  sum <- apply(counts,2,sum)\n",
    "  counts <- counts[seqnames,]\n",
    "  sum <- matrix(sum,nrow(counts),ncol(counts),byrow=TRUE)\n",
    "  p <- round(100*counts/sum,digits=3)\n",
    "\n",
    "  if (outfile) png(filename=\"figures/majSeq.png\",width=min(3600,1800+800*ncol(counts)/10),height=1800,res=300)\n",
    "    maj <- apply(p, 2, max)\n",
    "    seqname <- rownames(p)[apply(p, 2, which.max)]\n",
    "    TAX <- data.frame(as(tax_table(rds), \"matrix\"))[seqname,]\n",
    "    taxname <- as.character(TAX[,taxrank])\n",
    "    taxname[is.na(taxname)] <- as.character(TAX[is.na(taxname),\"Genus\"])\n",
    "    d <- data.frame(maj=maj, sample=factor(names(maj), levels=names(maj)), group, seqname=seqname)\n",
    "    print(ggplot(d, aes(x=.data$sample, y=.data$maj, fill=.data$group)) +\n",
    "            geom_bar(stat=\"identity\", show.legend=TRUE) +\n",
    "            labs(fill=\"\") +\n",
    "            scale_fill_manual(values=col) +\n",
    "            xlab(\"Samples\") + \n",
    "            ylab(\"Percentage of reads\") +\n",
    "            scale_y_continuous(expand=expand_scale(mult=c(0.01, 0.05))) +\n",
    "            ggtitle(\"Percentage of reads from most expressed sequence\") +\n",
    "            theme(axis.text.x=element_text(angle=90, hjust=1, vjust=0.5)) +\n",
    "            geom_text(aes(y=0.8*maj, label=taxname), color=\"black\", size=2.5, angle=90, fontface=\"bold\"))\n",
    "  if (outfile) dev.off()\n",
    "  \n",
    "  return(invisible(p))\n",
    "}"
   ]
  },
  {
   "cell_type": "code",
   "execution_count": null,
   "metadata": {},
   "outputs": [],
   "source": [
    "majSequences(rds, n=1, df$Sample_Group, outfile=FALSE)"
   ]
  },
  {
   "cell_type": "code",
   "execution_count": null,
   "metadata": {},
   "outputs": [],
   "source": [
    "dispersionsPlot <- function(dds, outfile=TRUE){\n",
    "  if (outfile) png(filename=\"figures/dispersionsPlot.png\", width=3600, height=1800, res=300)\n",
    "  # dispersions plot\n",
    "  d <- as.data.frame(mcols(dds)[,c(\"baseMean\", \"dispGeneEst\", \"dispFit\", \"dispersion\")])\n",
    "  d <- d[which(d$baseMean > 0),]\n",
    "  d <- data.frame(baseMean=rep(d$baseMean, 3),\n",
    "                  value=c(d$dispGeneEst, d$dispersion, d$dispFit),\n",
    "                  variable=factor(rep(c(\"dispGeneEst\", \"dispersion\", \"dispFit\"), each=nrow(d)),\n",
    "                                  levels=c(\"dispGeneEst\", \"dispersion\", \"dispFit\")))\n",
    "  p1 <- ggplot(d, aes(x=.data$baseMean, y=.data$value, colour=.data$variable)) + \n",
    "    geom_point(size=0.1) +\n",
    "    scale_x_continuous(trans = log10_trans(),\n",
    "                       breaks = trans_breaks(\"log10\", function(x) 10^x),\n",
    "                       labels = trans_format(\"log10\", math_format())) +\n",
    "    scale_y_continuous(trans = log10_trans(),\n",
    "                       breaks = trans_breaks(\"log10\", function(x) 10^x),\n",
    "                       labels = trans_format(\"log10\", math_format())) +\n",
    "    ylab(\"Dispersion\") + \n",
    "    xlab(\"Mean of normalized counts\") +\n",
    "    scale_colour_manual(\n",
    "      values=c(\"Black\", \"#377eb8\", \"#e41a1c\"),\n",
    "      breaks=c(\"dispGeneEst\", \"dispersion\", \"dispFit\"),\n",
    "      labels=c(\"Estimate\", \"Final\", \"Fit\"),\n",
    "      name=\"\") +\n",
    "    guides(colour = guide_legend(override.aes = list(size=2))) +\n",
    "    ggtitle(\"Dispersions\")\n",
    "  \n",
    "  # diagnostic of log normality\n",
    "  disp <- mcols(dds)$dispGeneEst\n",
    "  disp <- disp[!is.na(disp)]\n",
    "  disp <- disp[disp>1e-8]\n",
    "  disp <- log(disp)\n",
    "  mean.disp <- mean(disp,na.rm=TRUE)\n",
    "  sd.disp <- sd(disp,na.rm=TRUE)\n",
    "  d <- data.frame(disp)\n",
    "  p2 <- ggplot(data=d, aes(x=.data$disp)) +\n",
    "    geom_histogram(bins=80, aes(y=.data$..density..)) +\n",
    "    scale_y_continuous(expand=expand_scale(mult=c(0.01, 0.05))) +\n",
    "    xlab(\"Feature dispersion estimate\") +\n",
    "    ylab(\"Density\") +\n",
    "    ggtitle(\"log-normality dispersion diagnostic\") +\n",
    "    stat_function(fun = dnorm, args = list(mean = mean.disp, sd = sd.disp))\n",
    "  \n",
    "  grid.arrange(p1, p2, layout_matrix=matrix(c(1, 1, 1, 1, 1, 2, 2, 2, 2), nrow=1))\n",
    "  \n",
    "  if (outfile) dev.off()\n",
    "}"
   ]
  },
  {
   "cell_type": "code",
   "execution_count": null,
   "metadata": {},
   "outputs": [],
   "source": [
    "dispersionsPlot(de, outfile=FALSE)"
   ]
  },
  {
   "cell_type": "code",
   "execution_count": null,
   "metadata": {},
   "outputs": [],
   "source": [
    "##CONTRASTS <- list()\n",
    "##df <- colData(de)\n",
    "##condition <- df[,snakemake@params$condition]\n",
    "\n",
    "##if (snakemake@params$test == \"ALLvsREF\"){\n",
    "##    ref <- snakemake@params$ref_level\n",
    "##    for (test in levels(condition)){\n",
    "##        if (test != ref) CONTRASTS[[paste0(test, \"__vs__\", ref)]] <- list(snakemake@params$condition, test, ref)\n",
    "##        }\n",
    "    \n",
    "##} else{\n",
    "##    for (comp in combn(nlevels(condition), 2, simplify=FALSE)){\n",
    "##        ref <- levels(condition)[comp[1]]\n",
    " ##       test <- levels(condition)[comp[2]]\n",
    "##        CONTRASTS[[paste0(test, \"__vs__\", ref)]] <- list(snakemake@params$condition, test, ref)\n",
    "##        }\n",
    "##    }\n"
   ]
  },
  {
   "cell_type": "code",
   "execution_count": null,
   "metadata": {},
   "outputs": [],
   "source": [
    "nDiffTotal <- function(complete, alpha=0.05){\n",
    "  nDiffTotal <- matrix(NA,ncol=4,nrow=length(complete),dimnames=list(names(complete),c(\"Test vs Ref\", \"# down\",\"# up\",\"# total\")))\n",
    "  for (name in names(complete)){\n",
    "    complete.name <- complete[[name]]\n",
    "    if (!is.null(complete.name$betaConv)){\n",
    "    nDiffTotal[name,2:3]=c(nrow(complete.name[which(complete.name$padj <= alpha & complete.name$betaConv & complete.name$log2FoldChange<=0),]),\n",
    "                             nrow(complete.name[which(complete.name$padj <= alpha & complete.name$betaConv & complete.name$log2FoldChange>=0),]))\n",
    "    } else{\n",
    "      nDiffTotal[name,2:3]=c(nrow(complete.name[which(complete.name$padj <= alpha & complete.name$log2FoldChange<=0),]),\n",
    "                             nrow(complete.name[which(complete.name$padj <= alpha & complete.name$log2FoldChange>=0),]))\n",
    "    }\n",
    "  }\n",
    "  nDiffTotal[,4] <- nDiffTotal[,2] + nDiffTotal[,3]\n",
    "  nDiffTotal[,1] <- gsub(\"_\",\" \",rownames(nDiffTotal))\n",
    "  rownames(nDiffTotal) <- NULL\n",
    "  return(nDiffTotal)\n",
    "}"
   ]
  },
  {
   "cell_type": "code",
   "execution_count": null,
   "metadata": {},
   "outputs": [],
   "source": [
    "complete <- list()\n",
    "#for (contrast in names(CONTRASTS)){\n",
    "#    res = results(de, cooksCutoff=FALSE, contrast=CONTRASTS[[contrast]], alpha=snakemake@params$alpha)\n",
    "#    tab = cbind(as(res, \"data.frame\"), as(tax_table(rds)[rownames(res), ], \"matrix\"))\n",
    "#    tab = tab[order(tab$padj, na.last=TRUE), ]\n",
    "#    fn <- file.path(snakemake@output[[1]], paste0(snakemake@params$taxrank, \"_\", contrast, \".txt\"))\n",
    "#    dir.create(snakemake@output[[1]], showWarnings=FALSE, recursive=TRUE)\n",
    "#    write.table(tab, file=fn, sep=\"\\t\")\n",
    "#    complete[[contrast]] <- tab\n",
    "#}"
   ]
  },
  {
   "cell_type": "code",
   "execution_count": null,
   "metadata": {},
   "outputs": [],
   "source": [
    "#nDiffTotal(complete)"
   ]
  },
  {
   "cell_type": "code",
   "execution_count": null,
   "metadata": {},
   "outputs": [],
   "source": [
    "rawpHist <- function(complete, outfile=TRUE){\n",
    "  ncol <- min(2, length(complete))\n",
    "  nrow <- ceiling(length(complete)/ncol)\n",
    "  if (outfile) png(filename=\"figures/rawpHist.png\", width=cairoSizeWrapper(1800*ncol), height=cairoSizeWrapper(1800*nrow), res=300)\n",
    "  p <- list()\n",
    "  for (name in names(complete)){\n",
    "    complete.name <- complete[[name]]\n",
    "    complete.name <- complete.name[which(!is.na(complete.name$pvalue)),]\n",
    "    p[[name]] <- ggplot(data=complete.name, aes(x=.data$pvalue)) +\n",
    "      geom_histogram(binwidth=0.02) +\n",
    "      scale_y_continuous(expand=expand_scale(mult=c(0.01, 0.05))) +\n",
    "      xlab(\"Raw p-value\") +\n",
    "      ylab(\"Frequency\") +\n",
    "      ggtitle(paste0(\"Distribution of raw p-values - \", gsub(\"_\",\" \",name)))\n",
    "  }\n",
    "  tmpfun <- function(...) grid.arrange(..., nrow=nrow, ncol=ncol)\n",
    "  do.call(tmpfun, p)\n",
    "  if (outfile) dev.off()\n",
    "}"
   ]
  },
  {
   "cell_type": "code",
   "execution_count": null,
   "metadata": {},
   "outputs": [],
   "source": [
    "#rawpHist(complete, outfile=FALSE)"
   ]
  },
  {
   "cell_type": "code",
   "execution_count": null,
   "metadata": {},
   "outputs": [],
   "source": [
    "volcanoPlot <- function(complete, alpha=0.05, outfile=TRUE, padjlim=NULL){\n",
    "  ncol <- min(2, length(complete))\n",
    "  nrow <- ceiling(length(complete)/ncol)\n",
    "  if (outfile) png(filename=\"figures/volcanoPlot.png\", width=cairoSizeWrapper(1800*ncol), height=cairoSizeWrapper(1800*nrow), res=300)\n",
    "  p <- list()\n",
    "  for (name in names(complete)){\n",
    "    complete.name <- complete[[name]]\n",
    "    complete.name$padj[which(complete.name$padj==0)] <- .Machine$double.xmin\n",
    "    complete.name <- complete.name[which(!is.na(complete.name$padj)),]\n",
    "    complete.name$DE <- factor(ifelse(complete.name$padj <= alpha, \"yes\", \"no\"), levels=c(\"no\", \"yes\"))\n",
    "    if (is.null(padjlim)) padjlim.name <- quantile(complete.name$padj, probs=0.01, na.rm=TRUE) else padjlim.name <- padjlim\n",
    "    complete.name$outfield <- factor(ifelse(complete.name$padj < padjlim.name, \"top\", \"in\"), levels=c(\"in\", \"top\"))\n",
    "    complete.name$padj[which(complete.name$padj < padjlim.name)] <- padjlim.name\n",
    "    reverselog_trans <- function(base = exp(1)) {\n",
    "      trans <- function(x) -log(x, base)\n",
    "      inv <- function(x) base^(-x)\n",
    "      trans_new(paste0(\"reverselog-\", format(base)), trans, inv,\n",
    "                log_breaks(base = base),\n",
    "                domain = c(.Machine$double.xmin, Inf))\n",
    "    }\n",
    "    p[[name]] <- ggplot(data=complete.name, \n",
    "                        aes(x=.data$log2FoldChange, y=.data$padj, color=.data$DE, shape=.data$outfield)) +\n",
    "      geom_point(show.legend=FALSE, alpha=0.5) +\n",
    "      scale_y_continuous(trans = reverselog_trans(10),\n",
    "                         breaks = trans_breaks(\"log10\", function(x) 10^x),\n",
    "                         labels = trans_format(\"log10\", math_format(~10^.x))) +\n",
    "      scale_colour_manual(values=c(\"no\"=\"black\", \"yes\"=\"red\"), drop=FALSE) +\n",
    "      scale_shape_manual(values=c(\"in\"=16, \"top\"=17), drop=FALSE) +\n",
    "      xlab(expression(log[2]~fold~change)) +\n",
    "      ylab(\"Adjusted P-value\") +\n",
    "      ggtitle(paste0(\"Volcano plot - \", gsub(\"_\", \" \", name)))\n",
    "  }\n",
    "  tmpfun <- function(...) grid.arrange(..., nrow=nrow, ncol=ncol)\n",
    "  do.call(tmpfun, p)\n",
    "  if (outfile) dev.off()\n",
    "}\n",
    "                         "
   ]
  },
  {
   "cell_type": "code",
   "execution_count": null,
   "metadata": {},
   "outputs": [],
   "source": [
    "#volcanoPlot(complete, outfile=FALSE)"
   ]
  },
  {
   "cell_type": "code",
   "execution_count": null,
   "metadata": {},
   "outputs": [],
   "source": [
    "MAPlot <- function(complete, alpha=0.05, outfile=TRUE, log2FClim=NULL){\n",
    "  ncol <- min(2, length(complete))\n",
    "  nrow <- ceiling(length(complete)/ncol)\n",
    "  if (outfile) png(filename=\"figures/MAPlot.png\", width=cairoSizeWrapper(1800*ncol), height=cairoSizeWrapper(1800*nrow), res=300)\n",
    "  p <- list()\n",
    "  for (name in names(complete)){\n",
    "    complete.name <- complete[[name]]\n",
    "    complete.name <- complete.name[which(complete.name$baseMean>0),]\n",
    "    complete.name$padj <- ifelse(is.na(complete.name$padj), 1, complete.name$padj)\n",
    "    complete.name$DE <- factor(ifelse(complete.name$padj <= alpha, \"yes\", \"no\"), levels=c(\"no\", \"yes\"))\n",
    "    py <- complete.name$log2FoldChange\n",
    "    if (is.null(log2FClim)) ymax <- quantile(abs(py[is.finite(py)]), probs=0.99) else ymax <- log2FClim\n",
    "    complete.name$log2FoldChange[which(py > ymax)] <- ymax\n",
    "    complete.name$log2FoldChange[which(py < -ymax)] <- -ymax\n",
    "    complete.name$outfield <- factor(ifelse(py > ymax, \"top\", ifelse(py < -ymax, \"bottom\", \"in\")), \n",
    "                                     levels=c(\"bottom\", \"in\", \"top\"))\n",
    "    p[[name]] <- ggplot(data=complete.name, \n",
    "                        aes(x=.data$baseMean, y=.data$log2FoldChange, color=.data$DE, fill=.data$DE, shape=.data$outfield)) +\n",
    "      scale_x_continuous(trans = log10_trans(),\n",
    "                         breaks = trans_breaks(\"log10\", function(x) 10^x),\n",
    "                         labels = trans_format(\"log10\", math_format(~10^.x))) +\n",
    "      geom_point(show.legend=FALSE, alpha=0.5, size=0.8) +\n",
    "      scale_colour_manual(values=c(\"no\"=\"black\", \"yes\"=\"red\"), drop=FALSE) +\n",
    "      scale_shape_manual(values=c(\"bottom\"=25, \"in\"=21, \"top\"=24), drop=FALSE) +\n",
    "      scale_fill_manual(values=c(\"no\"=\"black\", \"yes\"=\"red\"), drop=FALSE) +\n",
    "      scale_y_continuous(expand=expand_scale(mult=c(0.03, 0.03))) +\n",
    "      xlab(\"Mean of normalized counts\") +\n",
    "      ylab(expression(log[2]~fold~change)) +\n",
    "      ggtitle(paste0(\"MA-plot - \", gsub(\"_\",\" \",name)))\n",
    "  }\n",
    "  tmpfun <- function(...) grid.arrange(..., nrow=nrow, ncol=ncol)\n",
    "  do.call(tmpfun, p)\n",
    "  if (outfile) dev.off()\n",
    "}"
   ]
  },
  {
   "cell_type": "code",
   "execution_count": null,
   "metadata": {},
   "outputs": [],
   "source": [
    "#MAPlot(complete, outfile=FALSE)"
   ]
  },
  {
   "cell_type": "code",
   "execution_count": null,
   "metadata": {},
   "outputs": [],
   "source": [
    "all_sign <- c()\n",
    "#for (name in names(complete)){\n",
    "#    complete.name <- complete[[name]]\n",
    "#    complete.name$padj <- ifelse(is.na(complete.name$padj), 1, complete.name$padj)\n",
    "#    ids <- rownames(complete.name)[complete.name$padj <= snakemake@params$alpha]\n",
    "#all_sign <- c(all_sign, ids)\n",
    "#    }\n",
    "#all_sign <- unique(all_sign)\n"
   ]
  },
  {
   "cell_type": "code",
   "execution_count": null,
   "metadata": {},
   "outputs": [],
   "source": [
    "\n",
    "if (length(all_sign) > 1){\n",
    "    gpac <- prune_taxa(all_sign, rds)\n",
    "    gpac <- filter_taxa(gpac, function(x) sum(x>0) > 1, TRUE)\n",
    "    gpac <- prune_samples(sample_sums(gpac) > 1, gpac)\n",
    "    plot_heatmap(gpac, \"NMDS\", \"bray\", snakemake@params$condition, snakemake@params$taxrank, low=\"#66CCFF\", high=\"#000033\", na.value=\"white\")\n",
    "}\n"
   ]
  },
  {
   "cell_type": "markdown",
   "metadata": {},
   "source": [
    "Hetmap of features found significant in analysis"
   ]
  }
 ],
 "metadata": {
  "kernelspec": {
   "display_name": "R",
   "language": "R",
   "name": "ir"
  },
  "language_info": {
   "codemirror_mode": "r",
   "file_extension": ".r",
   "mimetype": "text/x-r-source",
   "name": "R",
   "pygments_lexer": "r",
   "version": "3.6.2"
  }
 },
 "nbformat": 4,
 "nbformat_minor": 4
}
