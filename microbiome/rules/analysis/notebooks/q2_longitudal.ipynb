{
 "cells": [
  {
   "cell_type": "markdown",
   "metadata": {},
   "source": [
    "**Longitudal analysis**"
   ]
  },
  {
   "cell_type": "code",
   "execution_count": 1,
   "metadata": {},
   "outputs": [],
   "source": [
    "import os\n"
   ]
  },
  {
   "cell_type": "code",
   "execution_count": 2,
   "metadata": {},
   "outputs": [],
   "source": [
    "import pandas as pd"
   ]
  },
  {
   "cell_type": "code",
   "execution_count": 27,
   "metadata": {},
   "outputs": [
    {
     "ename": "ImportError",
     "evalue": "cannot import name 'first_differences'",
     "output_type": "error",
     "traceback": [
      "\u001b[0;31m---------------------------------------------------------------------------\u001b[0m",
      "\u001b[0;31mImportError\u001b[0m                               Traceback (most recent call last)",
      "\u001b[0;32m<ipython-input-27-cb86aedb9b8b>\u001b[0m in \u001b[0;36m<module>\u001b[0;34m\u001b[0m\n\u001b[1;32m      1\u001b[0m \u001b[0;32mimport\u001b[0m \u001b[0mqiime2\u001b[0m\u001b[0;34m\u001b[0m\u001b[0;34m\u001b[0m\u001b[0m\n\u001b[1;32m      2\u001b[0m \u001b[0;32mfrom\u001b[0m \u001b[0mqiime2\u001b[0m\u001b[0;34m.\u001b[0m\u001b[0mplugins\u001b[0m \u001b[0;32mimport\u001b[0m \u001b[0mlongitudinal\u001b[0m\u001b[0;34m,\u001b[0m \u001b[0mfeature_table\u001b[0m\u001b[0;34m\u001b[0m\u001b[0;34m\u001b[0m\u001b[0m\n\u001b[0;32m----> 3\u001b[0;31m \u001b[0;32mfrom\u001b[0m \u001b[0mqiime2\u001b[0m\u001b[0;34m.\u001b[0m\u001b[0mplugins\u001b[0m\u001b[0;34m.\u001b[0m\u001b[0mlongitudinal\u001b[0m\u001b[0;34m.\u001b[0m\u001b[0mpipelines\u001b[0m \u001b[0;32mimport\u001b[0m \u001b[0mfeature_volatility\u001b[0m\u001b[0;34m,\u001b[0m \u001b[0mfirst_differences\u001b[0m\u001b[0;34m\u001b[0m\u001b[0;34m\u001b[0m\u001b[0m\n\u001b[0m\u001b[1;32m      4\u001b[0m \u001b[0;32mfrom\u001b[0m \u001b[0mqiime2\u001b[0m \u001b[0;32mimport\u001b[0m \u001b[0mArtifact\u001b[0m\u001b[0;34m,\u001b[0m \u001b[0mMetadata\u001b[0m\u001b[0;34m\u001b[0m\u001b[0;34m\u001b[0m\u001b[0m\n\u001b[1;32m      5\u001b[0m \u001b[0;34m\u001b[0m\u001b[0m\n",
      "\u001b[0;31mImportError\u001b[0m: cannot import name 'first_differences'"
     ]
    }
   ],
   "source": [
    "import qiime2\n",
    "from qiime2.plugins import longitudinal, feature_table\n",
    "from qiime2.plugins.longitudinal.pipelines import feature_volatility, first_differences\n",
    "from qiime2 import Artifact, Metadata\n",
    "\n",
    "import biom"
   ]
  },
  {
   "cell_type": "code",
   "execution_count": 4,
   "metadata": {},
   "outputs": [],
   "source": [
    "sm_dir = os.path.abspath('../../../../..')\n",
    "q2_out = os.path.join(sm_dir, 'data/tmp/microbiome/quant/qiime2/silva')\n",
    "table_fn = os.path.join(q2_out, \"table.qza\")\n",
    "sample_info = os.path.join(q2_out, \"q2_sample_info.tsv\")\n",
    "feature_info = os.path.join(q2_out, \"taxonomy.qza\")"
   ]
  },
  {
   "cell_type": "code",
   "execution_count": 5,
   "metadata": {},
   "outputs": [],
   "source": [
    "X = Artifact.load(table_fn)\n",
    "S = Metadata.load(sample_info)\n",
    "M = Artifact.load(feature_info)\n",
    "df = S.to_dataframe()"
   ]
  },
  {
   "cell_type": "code",
   "execution_count": 6,
   "metadata": {},
   "outputs": [],
   "source": [
    "# model\n",
    "models = {'main': {'subset': 'Subset::sample', 'state':'Dive_Num', 'subject': 'Diver'}}\n"
   ]
  },
  {
   "cell_type": "code",
   "execution_count": 7,
   "metadata": {},
   "outputs": [],
   "source": [
    "df_f = df.loc[df.Subset==\"sample\",:]\n",
    "S_f = Metadata(df_f)\n",
    "X_f = feature_table.methods.filter_samples(X, metadata=S_f).filtered_table"
   ]
  },
  {
   "cell_type": "code",
   "execution_count": null,
   "metadata": {},
   "outputs": [],
   "source": []
  },
  {
   "cell_type": "code",
   "execution_count": 24,
   "metadata": {},
   "outputs": [
    {
     "name": "stderr",
     "output_type": "stream",
     "text": [
      "/mnt/scratch/flatberg/miniconda3/envs/qiime2-2019.10/lib/python3.6/site-packages/sklearn/model_selection/_search.py:813: DeprecationWarning: The default of the `iid` parameter will change from True to False in version 0.22 and will be removed in 0.24. This will change numeric results when test-set sizes are unequal.\n",
      "  DeprecationWarning)\n"
     ]
    }
   ],
   "source": [
    "fv = feature_volatility(table=X_f, metadata=S_f, state_column=models['main']['state'], individual_id_column=models['main']['subject'], \n",
    "                        cv=10, n_jobs=24, parameter_tuning=True, feature_count=20, importance_threshold=\"q3\", estimator=\"RandomForestRegressor\", n_estimators=1000)"
   ]
  },
  {
   "cell_type": "code",
   "execution_count": 25,
   "metadata": {},
   "outputs": [
    {
     "data": {
      "text/html": [
       "<div><img onload=\"(function(div, url){\n",
       "if (typeof require !== 'undefined') {\n",
       "    var baseURL = require.toUrl('').split('/').slice(0, -2).join('/');\n",
       "} else {\n",
       "    var baseURL = JSON.parse(\n",
       "        document.getElementById('jupyter-config-data').innerHTML\n",
       "    ).baseUrl.slice(0, -1);\n",
       "}\n",
       "url = baseURL + url;\n",
       "fetch(url).then(function(res) {\n",
       "    if (res.status === 404) {\n",
       "        div.innerHTML = 'Install QIIME 2 Jupyter extension with:<br />' +\n",
       "                        '<code>jupyter serverextension enable --py qiime2' +\n",
       "                        ' --sys-prefix</code><br />then restart your server.' +\n",
       "                        '<br /><br />(Interactive output not available on ' +\n",
       "                        'static notebook viewer services like nbviewer.)';\n",
       "    } else if (res.status === 409) {\n",
       "        div.innerHTML = 'Visualization no longer in scope. Re-run this cell' +\n",
       "                        ' to see the visualization.';\n",
       "    } else if (res.ok) {\n",
       "        url = res.url;\n",
       "        div.innerHTML = '<iframe src=\\'' + url + '\\' style=\\'' +\n",
       "                        'width: 100%; height: 700px; border: 0;\\'>' +\n",
       "                        '</iframe><hr />Open in a: <a href=\\'' + url + '\\'' +\n",
       "                        ' target=\\'_blank\\'>new window</a>'\n",
       "    } else {\n",
       "        div.innerHTML = 'Something has gone wrong. Check notebook server for' +\n",
       "                        ' errors.';\n",
       "    }\n",
       "});\n",
       "})(this.parentElement, '/qiime2/redirect?location=/mnt/scratch/qiime2-archive-920uoi3c')\" src=\"data:image/gif;base64,R0lGODlhAQABAIAAAP///wAAACH5BAEAAAAALAAAAAABAAEAAAICRAEAOw==\" /></div>"
      ],
      "text/plain": [
       "<visualization: Visualization uuid: 74b8ee74-78ab-42d7-b5a7-977fd7892800>"
      ]
     },
     "execution_count": 25,
     "metadata": {},
     "output_type": "execute_result"
    }
   ],
   "source": [
    "fv.volatility_plot"
   ]
  },
  {
   "cell_type": "code",
   "execution_count": 37,
   "metadata": {},
   "outputs": [],
   "source": [
    "d1 = longitudinal.methods.first_differences(metadata=S_f, state_column=models['main']['state'], individual_id_column=models['main']['subject'],\n",
    "                                            metric=\"BMI\")\n"
   ]
  },
  {
   "cell_type": "code",
   "execution_count": 51,
   "metadata": {},
   "outputs": [],
   "source": [
    "dist = Artifact.load(os.path.join(q2_out, \"diversity/metrics/bray_curtis_distance_matrix.qza\"))"
   ]
  },
  {
   "cell_type": "code",
   "execution_count": 53,
   "metadata": {},
   "outputs": [],
   "source": [
    "d2 = longitudinal.methods.first_distances(dist, S_f, state_column=models['main']['state'], individual_id_column=models['main']['subject'], baseline=0)"
   ]
  },
  {
   "cell_type": "code",
   "execution_count": 56,
   "metadata": {},
   "outputs": [],
   "source": [
    "df_2 = d2.first_distances.view(pd.Series)"
   ]
  },
  {
   "cell_type": "code",
   "execution_count": 31,
   "metadata": {},
   "outputs": [
    {
     "data": {
      "text/plain": [
       "\u001b[0;31mCall signature:\u001b[0m\n",
       "\u001b[0mlongitudinal\u001b[0m\u001b[0;34m.\u001b[0m\u001b[0mmethods\u001b[0m\u001b[0;34m.\u001b[0m\u001b[0mfirst_differences\u001b[0m\u001b[0;34m(\u001b[0m\u001b[0;34m\u001b[0m\n",
       "\u001b[0;34m\u001b[0m    \u001b[0mmetadata\u001b[0m\u001b[0;34m:\u001b[0m\u001b[0mMetadata\u001b[0m\u001b[0;34m,\u001b[0m\u001b[0;34m\u001b[0m\n",
       "\u001b[0;34m\u001b[0m    \u001b[0mstate_column\u001b[0m\u001b[0;34m:\u001b[0m\u001b[0mStr\u001b[0m\u001b[0;34m,\u001b[0m\u001b[0;34m\u001b[0m\n",
       "\u001b[0;34m\u001b[0m    \u001b[0mindividual_id_column\u001b[0m\u001b[0;34m:\u001b[0m\u001b[0mStr\u001b[0m\u001b[0;34m,\u001b[0m\u001b[0;34m\u001b[0m\n",
       "\u001b[0;34m\u001b[0m    \u001b[0mmetric\u001b[0m\u001b[0;34m:\u001b[0m\u001b[0mStr\u001b[0m\u001b[0;34m,\u001b[0m\u001b[0;34m\u001b[0m\n",
       "\u001b[0;34m\u001b[0m    \u001b[0mreplicate_handling\u001b[0m\u001b[0;34m:\u001b[0m\u001b[0mStr\u001b[0m \u001b[0;34m%\u001b[0m \u001b[0mChoices\u001b[0m\u001b[0;34m(\u001b[0m\u001b[0;34m'error'\u001b[0m\u001b[0;34m,\u001b[0m \u001b[0;34m'random'\u001b[0m\u001b[0;34m,\u001b[0m \u001b[0;34m'drop'\u001b[0m\u001b[0;34m)\u001b[0m\u001b[0;34m=\u001b[0m\u001b[0;34m'error'\u001b[0m\u001b[0;34m,\u001b[0m\u001b[0;34m\u001b[0m\n",
       "\u001b[0;34m\u001b[0m    \u001b[0mbaseline\u001b[0m\u001b[0;34m:\u001b[0m\u001b[0mFloat\u001b[0m\u001b[0;34m=\u001b[0m\u001b[0;32mNone\u001b[0m\u001b[0;34m,\u001b[0m\u001b[0;34m\u001b[0m\n",
       "\u001b[0;34m\u001b[0m    \u001b[0mtable\u001b[0m\u001b[0;34m:\u001b[0m\u001b[0mFeatureTable\u001b[0m\u001b[0;34m[\u001b[0m\u001b[0mRelativeFrequency\u001b[0m\u001b[0;34m]\u001b[0m\u001b[0;34m=\u001b[0m\u001b[0;32mNone\u001b[0m\u001b[0;34m,\u001b[0m\u001b[0;34m\u001b[0m\n",
       "\u001b[0;34m\u001b[0m\u001b[0;34m)\u001b[0m \u001b[0;34m->\u001b[0m \u001b[0;34m(\u001b[0m\u001b[0mSampleData\u001b[0m\u001b[0;34m[\u001b[0m\u001b[0mFirstDifferences\u001b[0m\u001b[0;34m]\u001b[0m\u001b[0;34m,\u001b[0m\u001b[0;34m)\u001b[0m\u001b[0;34m\u001b[0m\u001b[0;34m\u001b[0m\u001b[0m\n",
       "\u001b[0;31mType:\u001b[0m           Method\n",
       "\u001b[0;31mString form:\u001b[0m    <method qiime2.plugins.longitudinal.methods.first_differences>\n",
       "\u001b[0;31mFile:\u001b[0m           /mnt/scratch/flatberg/miniconda3/envs/qiime2-2019.10/lib/python3.6/site-packages/qiime2/sdk/action.py\n",
       "\u001b[0;31mDocstring:\u001b[0m      QIIME 2 Method\n",
       "\u001b[0;31mCall docstring:\u001b[0m\n",
       "Compute first differences or difference from baseline between sequential\n",
       "states\n",
       "\n",
       "Calculates first differences in \"metric\" between sequential states for\n",
       "samples collected from individual subjects sampled repeatedly at two or\n",
       "more states. First differences can be performed on a metadata column\n",
       "(including artifacts that can be input as metadata) or a feature in a\n",
       "feature table. Outputs a data series of first differences for each\n",
       "individual subject at each sequential pair of states, labeled by the\n",
       "SampleID of the second state (e.g., paired differences between time 0 and\n",
       "time 1 would be labeled by the SampleIDs at time 1). This file can be used\n",
       "as input to linear mixed effects models or other longitudinal or diversity\n",
       "methods to compare changes in first differences across time or among groups\n",
       "of subjects. Also supports differences from baseline (or other static\n",
       "comparison state) by setting the \"baseline\" parameter.\n",
       "\n",
       "Parameters\n",
       "----------\n",
       "metadata : Metadata\n",
       "    Sample metadata file containing individual_id_column.\n",
       "state_column : Str\n",
       "    Metadata column containing state (time) variable information.\n",
       "individual_id_column : Str\n",
       "    Metadata column containing IDs for individual subjects.\n",
       "metric : Str\n",
       "    Numerical metadata or artifact column to test.\n",
       "replicate_handling : Str % Choices('error', 'random', 'drop'), optional\n",
       "    Choose how replicate samples are handled. If replicates are detected,\n",
       "    \"error\" causes method to fail; \"drop\" will discard all replicated\n",
       "    samples; \"random\" chooses one representative at random from among\n",
       "    replicates.\n",
       "baseline : Float, optional\n",
       "    A value listed in the state_column metadata column against which all\n",
       "    other states should be compared. Toggles calculation of static\n",
       "    differences instead of first differences (which are calculated if no\n",
       "    value is given for baseline). If a \"baseline\" value is provided, sample\n",
       "    differences at each state are compared against the baseline state,\n",
       "    instead of the previous state. Must be a value listed in the\n",
       "    state_column.\n",
       "table : FeatureTable[RelativeFrequency], optional\n",
       "    Feature table to optionally use for computing first differences.\n",
       "\n",
       "Returns\n",
       "-------\n",
       "first_differences : SampleData[FirstDifferences]\n",
       "    Series of first differences.\n"
      ]
     },
     "metadata": {},
     "output_type": "display_data"
    }
   ],
   "source": []
  },
  {
   "cell_type": "code",
   "execution_count": 57,
   "metadata": {},
   "outputs": [
    {
     "data": {
      "text/plain": [
       "\u001b[0;31mCall signature:\u001b[0m\n",
       "\u001b[0mlongitudinal\u001b[0m\u001b[0;34m.\u001b[0m\u001b[0mvisualizers\u001b[0m\u001b[0;34m.\u001b[0m\u001b[0mlinear_mixed_effects\u001b[0m\u001b[0;34m(\u001b[0m\u001b[0;34m\u001b[0m\n",
       "\u001b[0;34m\u001b[0m    \u001b[0mmetadata\u001b[0m\u001b[0;34m:\u001b[0m\u001b[0mMetadata\u001b[0m\u001b[0;34m,\u001b[0m\u001b[0;34m\u001b[0m\n",
       "\u001b[0;34m\u001b[0m    \u001b[0mstate_column\u001b[0m\u001b[0;34m:\u001b[0m\u001b[0mStr\u001b[0m\u001b[0;34m,\u001b[0m\u001b[0;34m\u001b[0m\n",
       "\u001b[0;34m\u001b[0m    \u001b[0mindividual_id_column\u001b[0m\u001b[0;34m:\u001b[0m\u001b[0mStr\u001b[0m\u001b[0;34m,\u001b[0m\u001b[0;34m\u001b[0m\n",
       "\u001b[0;34m\u001b[0m    \u001b[0mmetric\u001b[0m\u001b[0;34m:\u001b[0m\u001b[0mStr\u001b[0m\u001b[0;34m=\u001b[0m\u001b[0;32mNone\u001b[0m\u001b[0;34m,\u001b[0m\u001b[0;34m\u001b[0m\n",
       "\u001b[0;34m\u001b[0m    \u001b[0mgroup_columns\u001b[0m\u001b[0;34m:\u001b[0m\u001b[0mStr\u001b[0m\u001b[0;34m=\u001b[0m\u001b[0;32mNone\u001b[0m\u001b[0;34m,\u001b[0m\u001b[0;34m\u001b[0m\n",
       "\u001b[0;34m\u001b[0m    \u001b[0mrandom_effects\u001b[0m\u001b[0;34m:\u001b[0m\u001b[0mStr\u001b[0m\u001b[0;34m=\u001b[0m\u001b[0;32mNone\u001b[0m\u001b[0;34m,\u001b[0m\u001b[0;34m\u001b[0m\n",
       "\u001b[0;34m\u001b[0m    \u001b[0mtable\u001b[0m\u001b[0;34m:\u001b[0m\u001b[0mFeatureTable\u001b[0m\u001b[0;34m[\u001b[0m\u001b[0mRelativeFrequency\u001b[0m\u001b[0;34m]\u001b[0m\u001b[0;34m=\u001b[0m\u001b[0;32mNone\u001b[0m\u001b[0;34m,\u001b[0m\u001b[0;34m\u001b[0m\n",
       "\u001b[0;34m\u001b[0m    \u001b[0mpalette\u001b[0m\u001b[0;34m:\u001b[0m\u001b[0mStr\u001b[0m \u001b[0;34m%\u001b[0m \u001b[0mChoices\u001b[0m\u001b[0;34m(\u001b[0m\u001b[0;34m'Set1'\u001b[0m\u001b[0;34m,\u001b[0m \u001b[0;34m'Set2'\u001b[0m\u001b[0;34m,\u001b[0m \u001b[0;34m'Set3'\u001b[0m\u001b[0;34m,\u001b[0m \u001b[0;34m'Pastel1'\u001b[0m\u001b[0;34m,\u001b[0m \u001b[0;34m'Pastel2'\u001b[0m\u001b[0;34m,\u001b[0m \u001b[0;34m'Paired'\u001b[0m\u001b[0;34m,\u001b[0m \u001b[0;34m'Accent'\u001b[0m\u001b[0;34m,\u001b[0m \u001b[0;34m'Dark2'\u001b[0m\u001b[0;34m,\u001b[0m \u001b[0;34m'tab10'\u001b[0m\u001b[0;34m,\u001b[0m \u001b[0;34m'tab20'\u001b[0m\u001b[0;34m,\u001b[0m \u001b[0;34m'tab20b'\u001b[0m\u001b[0;34m,\u001b[0m \u001b[0;34m'tab20c'\u001b[0m\u001b[0;34m,\u001b[0m \u001b[0;34m'viridis'\u001b[0m\u001b[0;34m,\u001b[0m \u001b[0;34m'plasma'\u001b[0m\u001b[0;34m,\u001b[0m \u001b[0;34m'inferno'\u001b[0m\u001b[0;34m,\u001b[0m \u001b[0;34m'magma'\u001b[0m\u001b[0;34m,\u001b[0m \u001b[0;34m'terrain'\u001b[0m\u001b[0;34m,\u001b[0m \u001b[0;34m'rainbow'\u001b[0m\u001b[0;34m,\u001b[0m \u001b[0;34m'cividis'\u001b[0m\u001b[0;34m)\u001b[0m\u001b[0;34m=\u001b[0m\u001b[0;34m'Set1'\u001b[0m\u001b[0;34m,\u001b[0m\u001b[0;34m\u001b[0m\n",
       "\u001b[0;34m\u001b[0m    \u001b[0mlowess\u001b[0m\u001b[0;34m:\u001b[0m\u001b[0mBool\u001b[0m\u001b[0;34m=\u001b[0m\u001b[0;32mFalse\u001b[0m\u001b[0;34m,\u001b[0m\u001b[0;34m\u001b[0m\n",
       "\u001b[0;34m\u001b[0m    \u001b[0mci\u001b[0m\u001b[0;34m:\u001b[0m\u001b[0mFloat\u001b[0m \u001b[0;34m%\u001b[0m \u001b[0mRange\u001b[0m\u001b[0;34m(\u001b[0m\u001b[0;36m0\u001b[0m\u001b[0;34m,\u001b[0m \u001b[0;36m100\u001b[0m\u001b[0;34m)\u001b[0m\u001b[0;34m=\u001b[0m\u001b[0;36m95\u001b[0m\u001b[0;34m,\u001b[0m\u001b[0;34m\u001b[0m\n",
       "\u001b[0;34m\u001b[0m    \u001b[0mformula\u001b[0m\u001b[0;34m:\u001b[0m\u001b[0mStr\u001b[0m\u001b[0;34m=\u001b[0m\u001b[0;32mNone\u001b[0m\u001b[0;34m,\u001b[0m\u001b[0;34m\u001b[0m\n",
       "\u001b[0;34m\u001b[0m\u001b[0;34m)\u001b[0m \u001b[0;34m->\u001b[0m \u001b[0;34m(\u001b[0m\u001b[0mVisualization\u001b[0m\u001b[0;34m,\u001b[0m\u001b[0;34m)\u001b[0m\u001b[0;34m\u001b[0m\u001b[0;34m\u001b[0m\u001b[0m\n",
       "\u001b[0;31mType:\u001b[0m           Visualizer\n",
       "\u001b[0;31mString form:\u001b[0m    <visualizer qiime2.plugins.longitudinal.visualizers.linear_mixed_effects>\n",
       "\u001b[0;31mFile:\u001b[0m           /mnt/scratch/flatberg/miniconda3/envs/qiime2-2019.10/lib/python3.6/site-packages/qiime2/sdk/action.py\n",
       "\u001b[0;31mDocstring:\u001b[0m      QIIME 2 Visualizer\n",
       "\u001b[0;31mCall docstring:\u001b[0m\n",
       "Linear mixed effects modeling\n",
       "\n",
       "Linear mixed effects models evaluate the contribution of exogenous\n",
       "covariates \"group_columns\" and \"random_effects\" to a single dependent\n",
       "variable, \"metric\". Perform LME and plot line plots of each group column. A\n",
       "feature table artifact is required input, though whether \"metric\" is\n",
       "derived from the feature table or metadata is optional.\n",
       "\n",
       "Parameters\n",
       "----------\n",
       "metadata : Metadata\n",
       "    Sample metadata file containing individual_id_column.\n",
       "state_column : Str\n",
       "    Metadata column containing state (time) variable information.\n",
       "individual_id_column : Str\n",
       "    Metadata column containing IDs for individual subjects.\n",
       "metric : Str, optional\n",
       "    Dependent variable column name. Must be a column name located in the\n",
       "    metadata or feature table files.\n",
       "group_columns : Str, optional\n",
       "    Comma-separated list (without spaces) of metadata columns to use as\n",
       "    independent covariates used to determine mean structure of \"metric\".\n",
       "random_effects : Str, optional\n",
       "    Comma-separated list (without spaces) of metadata columns to use as\n",
       "    independent covariates used to determine the variance and covariance\n",
       "    structure (random effects) of \"metric\". To add a random slope, the same\n",
       "    value passed to \"state_column\" should be passed here. A random\n",
       "    intercept for each individual is set by default and does not need to be\n",
       "    passed here.\n",
       "table : FeatureTable[RelativeFrequency], optional\n",
       "    Feature table containing metric.\n",
       "palette : Str % Choices('Set1', 'Set2', 'Set3', 'Pastel1', 'Pastel2', 'Paired', 'Accent', 'Dark2', 'tab10', 'tab20', 'tab20b', 'tab20c', 'viridis', 'plasma', 'inferno', 'magma', 'terrain', 'rainbow', 'cividis'), optional\n",
       "    Color palette to use for generating boxplots.\n",
       "lowess : Bool, optional\n",
       "    Estimate locally weighted scatterplot smoothing. Note that this will\n",
       "    eliminate confidence interval plotting.\n",
       "ci : Float % Range(0, 100), optional\n",
       "    Size of the confidence interval for the regression estimate.\n",
       "formula : Str, optional\n",
       "    R-style formula to use for model specification. A formula must be used\n",
       "    if the \"metric\" parameter is None. Note that the metric and group\n",
       "    columns specified in the formula will override metric and group columns\n",
       "    that are passed separately as parameters to this method. Formulae will\n",
       "    be in the format \"a ~ b + c\", where \"a\" is the metric (dependent\n",
       "    variable) and \"b\" and \"c\" are independent covariates. Use \"+\" to add a\n",
       "    variable; \"+ a:b\" to add an interaction between variables a and b; \"*\"\n",
       "    to include a variable and all interactions; and \"-\" to subtract a\n",
       "    particular term (e.g., an interaction term). See\n",
       "    https://patsy.readthedocs.io/en/latest/formulas.html for full\n",
       "    documentation of valid formula operators. Always enclose formulae in\n",
       "    quotes to avoid unpleasant surprises.\n",
       "\n",
       "Returns\n",
       "-------\n",
       "visualization : Visualization\n"
      ]
     },
     "metadata": {},
     "output_type": "display_data"
    }
   ],
   "source": [
    "longitudinal.visualizers.linear_mixed_effects?"
   ]
  },
  {
   "cell_type": "code",
   "execution_count": null,
   "metadata": {},
   "outputs": [],
   "source": []
  }
 ],
 "metadata": {
  "kernelspec": {
   "display_name": "Python 3",
   "language": "python",
   "name": "python3"
  },
  "language_info": {
   "codemirror_mode": {
    "name": "ipython",
    "version": 3
   },
   "file_extension": ".py",
   "mimetype": "text/x-python",
   "name": "python",
   "nbconvert_exporter": "python",
   "pygments_lexer": "ipython3",
   "version": "3.6.7"
  }
 },
 "nbformat": 4,
 "nbformat_minor": 4
}
