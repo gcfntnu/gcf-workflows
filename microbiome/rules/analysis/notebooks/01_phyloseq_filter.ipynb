{
 "cells": [
  {
   "cell_type": "markdown",
   "metadata": {},
   "source": [
    "01 . Filtering\n",
    "===\n",
    "**Pre cleaning of microbiome data** \n",
    "Preparing 16S data for further analysis such as beta diversity and statistical tests. \n",
    "1. add variabel types to meta data\n",
    "2. filter features/samples that will not be part of some analysis\n"
   ]
  },
  {
   "cell_type": "code",
   "execution_count": 2,
   "metadata": {},
   "outputs": [],
   "source": [
    "library(phyloseq)\n",
    "library(stringr)\n",
    "library(ggplot2)\n",
    "source(\"/mnt/work/flatberg/projects/GCF-2019-658/analysis/src/microbiome/rules/analysis/notebooks/src/microfiltR/microfiltR_source_code.R\")"
   ]
  },
  {
   "cell_type": "markdown",
   "metadata": {},
   "source": [
    "**Load QIIME2 based taxonomy from phyloseq object (rds file)**"
   ]
  },
  {
   "cell_type": "code",
   "execution_count": 4,
   "metadata": {},
   "outputs": [
    {
     "ename": "ERROR",
     "evalue": "Error in readRDS(snakemake@input[[1]]): object 'snakemake' not found\n",
     "output_type": "error",
     "traceback": [
      "Error in readRDS(snakemake@input[[1]]): object 'snakemake' not found\nTraceback:\n",
      "1. readRDS(snakemake@input[[1]])"
     ]
    }
   ],
   "source": [
    "rds <- readRDS(snakemake@input[[1]])\n",
    "#rds <- readRDS(\"../../../../../data/tmp/microbiome/quant/qiime2/silva/physeq.rds\")\n",
    "df <- data.frame(as(sample_data(rds), \"matrix\"))\n",
    "head(df)"
   ]
  },
  {
   "cell_type": "code",
   "execution_count": 5,
   "metadata": {},
   "outputs": [
    {
     "ename": "ERROR",
     "evalue": "Error in eval(expr, envir, enclos): object 'snakemake' not found\n",
     "output_type": "error",
     "traceback": [
      "Error in eval(expr, envir, enclos): object 'snakemake' not found\nTraceback:\n"
     ]
    }
   ],
   "source": [
    "MODEL = snakemake@config$models[[snakemake@wildcards$model]]"
   ]
  },
  {
   "cell_type": "code",
   "execution_count": null,
   "metadata": {},
   "outputs": [],
   "source": [
    "subset.ids <- function(rds, params){\n",
    "    df <- data.frame(as(sample_data(rds), \"matrix\"))\n",
    "    # set defaults if missing params\n",
    "    if (!\"axis\" %in% names(params)) params$axis <- \"column\"\n",
    "    if (params$axis == \"column\"){\n",
    "        df <- data.frame(as(sample_data(rds), \"matrix\"))\n",
    "    } else{\n",
    "        df <- data.frame(as(tax_table(rds), \"matrix\"))\n",
    "    }\n",
    "    if (!\"name\" %in% names(params)) params$name <- \"Subset\"\n",
    "    if (!params$name %in% colnames(df)) stop(\"params.name not in df\")\n",
    "    if (!\"selection\" %in% names(params)) params$selection <- \"keep\"\n",
    "    if (\"ids\" %in% names(params)){\n",
    "        keep <- sample_names(rds) %in% params$keep\n",
    "        if (sum(keep) == 0) stop(\"no overlap in subset ids from model.yaml\")\n",
    "    } else{\n",
    "        if (!params$name %in% colnames(df)){\n",
    "            stop(cat(\"missing column:\", params$name, \"in metadata.\"))\n",
    "        } \n",
    "        subset_col <- as.character(df[,params$name])\n",
    "        keep <- subset_col == as.character(params$selection)\n",
    "        if (sum(keep) == 0) stop(paste0(\"no overlap in selection \", params$selection, \": \", params$name))\n",
    "    }\n",
    "    if (params$axis == \"column\"){\n",
    "        rds <- prune_samples(keep, rds)\n",
    "    } else{\n",
    "        rds <- prune_taxa(keep, rds)\n",
    "    }\n",
    "}"
   ]
  },
  {
   "cell_type": "code",
   "execution_count": 4,
   "metadata": {},
   "outputs": [
    {
     "data": {
      "text/html": [
       "<table>\n",
       "<caption>A data.frame: 6 × 3</caption>\n",
       "<thead>\n",
       "\t<tr><th></th><th scope=col>Sample_Biosource</th><th scope=col>Subject</th><th scope=col>Sample_Group</th></tr>\n",
       "\t<tr><th></th><th scope=col>&lt;fct&gt;</th><th scope=col>&lt;fct&gt;</th><th scope=col>&lt;fct&gt;</th></tr>\n",
       "</thead>\n",
       "<tbody>\n",
       "\t<tr><th scope=row>1_S</th><td>saft  </td><td>1 </td><td>PPI_FGP</td></tr>\n",
       "\t<tr><th scope=row>10_C</th><td>corpus</td><td>10</td><td>PPI    </td></tr>\n",
       "\t<tr><th scope=row>10_S</th><td>saft  </td><td>10</td><td>PPI    </td></tr>\n",
       "\t<tr><th scope=row>11_C</th><td>corpus</td><td>11</td><td>PPI_FGP</td></tr>\n",
       "\t<tr><th scope=row>11_P</th><td>polypp</td><td>11</td><td>PPI_FGP</td></tr>\n",
       "\t<tr><th scope=row>11_S</th><td>saft  </td><td>11</td><td>PPI_FGP</td></tr>\n",
       "</tbody>\n",
       "</table>\n"
      ],
      "text/latex": [
       "A data.frame: 6 × 3\n",
       "\\begin{tabular}{r|lll}\n",
       "  & Sample\\_Biosource & Subject & Sample\\_Group\\\\\n",
       "  & <fct> & <fct> & <fct>\\\\\n",
       "\\hline\n",
       "\t1\\_S & saft   & 1  & PPI\\_FGP\\\\\n",
       "\t10\\_C & corpus & 10 & PPI    \\\\\n",
       "\t10\\_S & saft   & 10 & PPI    \\\\\n",
       "\t11\\_C & corpus & 11 & PPI\\_FGP\\\\\n",
       "\t11\\_P & polypp & 11 & PPI\\_FGP\\\\\n",
       "\t11\\_S & saft   & 11 & PPI\\_FGP\\\\\n",
       "\\end{tabular}\n"
      ],
      "text/markdown": [
       "\n",
       "A data.frame: 6 × 3\n",
       "\n",
       "| <!--/--> | Sample_Biosource &lt;fct&gt; | Subject &lt;fct&gt; | Sample_Group &lt;fct&gt; |\n",
       "|---|---|---|---|\n",
       "| 1_S | saft   | 1  | PPI_FGP |\n",
       "| 10_C | corpus | 10 | PPI     |\n",
       "| 10_S | saft   | 10 | PPI     |\n",
       "| 11_C | corpus | 11 | PPI_FGP |\n",
       "| 11_P | polypp | 11 | PPI_FGP |\n",
       "| 11_S | saft   | 11 | PPI_FGP |\n",
       "\n"
      ],
      "text/plain": [
       "     Sample_Biosource Subject Sample_Group\n",
       "1_S  saft             1       PPI_FGP     \n",
       "10_C corpus           10      PPI         \n",
       "10_S saft             10      PPI         \n",
       "11_C corpus           11      PPI_FGP     \n",
       "11_P polypp           11      PPI_FGP     \n",
       "11_S saft             11      PPI_FGP     "
      ]
     },
     "metadata": {},
     "output_type": "display_data"
    },
    {
     "data": {
      "text/plain": [
       "phyloseq-class experiment-level object\n",
       "otu_table()   OTU Table:         [ 2467 taxa and 36 samples ]\n",
       "sample_data() Sample Data:       [ 36 samples by 3 sample variables ]\n",
       "tax_table()   Taxonomy Table:    [ 2467 taxa by 7 taxonomic ranks ]\n",
       "phy_tree()    Phylogenetic Tree: [ 2467 tips and 2433 internal nodes ]\n",
       "refseq()      DNAStringSet:      [ 2467 reference sequences ]"
      ]
     },
     "metadata": {},
     "output_type": "display_data"
    }
   ],
   "source": [
    "if (!is.null(MODEL$subsets)){\n",
    "    for (p in MODEL$subsets){\n",
    "        rds <- subset.ids(rds, p)\n",
    "    }\n",
    "}\n",
    "rds"
   ]
  },
  {
   "cell_type": "markdown",
   "metadata": {},
   "source": [
    "**Taxonomy requirements**  \n",
    "We require taxa to be from the Bacteria kingdom and remove mithochondria/chloroplasts"
   ]
  },
  {
   "cell_type": "code",
   "execution_count": 5,
   "metadata": {},
   "outputs": [
    {
     "data": {
      "text/plain": [
       "phyloseq-class experiment-level object\n",
       "otu_table()   OTU Table:         [ 2212 taxa and 36 samples ]\n",
       "sample_data() Sample Data:       [ 36 samples by 3 sample variables ]\n",
       "tax_table()   Taxonomy Table:    [ 2212 taxa by 7 taxonomic ranks ]\n",
       "phy_tree()    Phylogenetic Tree: [ 2212 tips and 2178 internal nodes ]\n",
       "refseq()      DNAStringSet:      [ 2212 reference sequences ]"
      ]
     },
     "metadata": {},
     "output_type": "display_data"
    }
   ],
   "source": [
    "rds.f <- subset_taxa(rds,\n",
    "    Kingdom == \"Bacteria\" &\n",
    "    Family  != \"mitochondria\" &\n",
    "    Class   != \"Chloroplast\" &\n",
    "    Phylum != \"Cyanobacteria/Chloroplast\"\n",
    "  )\n",
    "rds.f = prune_taxa(taxa_sums(rds.f) > 0, rds.f)\n",
    "rds.f\n"
   ]
  },
  {
   "cell_type": "markdown",
   "metadata": {},
   "source": [
    "**Independent feature filtes**  \n",
    "Functions for paramter tuning independent filtering is from Bryan Brown's microfiltR https://github.com/itsmisterbrown/microfiltR"
   ]
  },
  {
   "cell_type": "code",
   "execution_count": 6,
   "metadata": {},
   "outputs": [
    {
     "name": "stderr",
     "output_type": "stream",
     "text": [
      "Removing 0 samples with read count < 500\n",
      "\n",
      "Estimating filtering statistics from relative abundance thresholds 5e-06 to 9e-04 by 1e-05\n",
      "\n",
      "Estimating filtering statistics from CV thresholds 1 to 10 by 0.5\n",
      "\n"
     ]
    },
    {
     "name": "stdout",
     "output_type": "stream",
     "text": [
      "Warning :c invalid class “otu_table” object: \n",
      " OTU abundance data must have non-zero dimensions. \n",
      "Warning :c invalid class “otu_table” object: \n",
      " OTU abundance data must have non-zero dimensions. \n",
      "Warning :c invalid class “otu_table” object: \n",
      " OTU abundance data must have non-zero dimensions. \n",
      "Warning :c invalid class “otu_table” object: \n",
      " OTU abundance data must have non-zero dimensions. \n",
      "Warning :c invalid class “otu_table” object: \n",
      " OTU abundance data must have non-zero dimensions. \n",
      "Warning :c invalid class “otu_table” object: \n",
      " OTU abundance data must have non-zero dimensions. \n",
      "Warning :c invalid class “otu_table” object: \n",
      " OTU abundance data must have non-zero dimensions. \n",
      "Warning :c invalid class “otu_table” object: \n",
      " OTU abundance data must have non-zero dimensions. \n"
     ]
    },
    {
     "name": "stderr",
     "output_type": "stream",
     "text": [
      "Estimating filtering statistics from prevalence thresholds 0.025 to 0.15 by 0.025\n",
      "\n"
     ]
    }
   ],
   "source": [
    "as.threshold <- estimate.ASthreshold(ps=rds.f, WST=NULL, minLIB=500, Prange = c(0.025:0.15, 0.025), CVrange = c(1:10, 0.5), RArange = c(5e-6:0.9e-3, 1e-5))"
   ]
  },
  {
   "cell_type": "raw",
   "metadata": {},
   "source": [
    "p <- plot.threshold(as.threshold)"
   ]
  },
  {
   "cell_type": "code",
   "execution_count": 7,
   "metadata": {},
   "outputs": [
    {
     "name": "stderr",
     "output_type": "stream",
     "text": [
      "Removing 0 samples with read count < 500\n",
      "\n",
      "Applying relative abundance threshold of 2.5e-06\n",
      "\n",
      "Applying prevalence threshold of 0.05\n",
      "\n"
     ]
    },
    {
     "data": {
      "text/plain": [
       "phyloseq-class experiment-level object\n",
       "otu_table()   OTU Table:         [ 821 taxa and 36 samples ]\n",
       "sample_data() Sample Data:       [ 36 samples by 3 sample variables ]\n",
       "tax_table()   Taxonomy Table:    [ 821 taxa by 7 taxonomic ranks ]\n",
       "phy_tree()    Phylogenetic Tree: [ 821 tips and 814 internal nodes ]\n",
       "refseq()      DNAStringSet:      [ 821 reference sequences ]"
      ]
     },
     "metadata": {},
     "output_type": "display_data"
    }
   ],
   "source": [
    "e3.f <- microfilter(ps=rds.f, WST=NULL, \n",
    "                    PFT=snakemake@params$prevalence_threshold,\n",
    "                    RAT=snakemake@params$abundance_threshold , \n",
    "                    minLIB=snakemake@params$min_lib, \n",
    "                    return.all = TRUE)\n",
    "e3.f$filtered.phyloseq"
   ]
  },
  {
   "cell_type": "markdown",
   "metadata": {},
   "source": [
    "----------------"
   ]
  },
  {
   "cell_type": "markdown",
   "metadata": {},
   "source": [
    "**Save filtered SILVA**"
   ]
  },
  {
   "cell_type": "code",
   "execution_count": 8,
   "metadata": {},
   "outputs": [
    {
     "name": "stdout",
     "output_type": "stream",
     "text": [
      "Saved  data/tmp/microbiome/analysis/GCF-2019-658-juice/physeq_filtered.rds"
     ]
    }
   ],
   "source": [
    "saveRDS(e3.f$filtered.phyloseq, snakemake@output[[1]])\n",
    "cat(\"Saved \", snakemake@output[[1]])"
   ]
  },
  {
   "cell_type": "markdown",
   "metadata": {},
   "source": [
    "--------"
   ]
  },
  {
   "cell_type": "markdown",
   "metadata": {},
   "source": [
    "--------------\n"
   ]
  }
 ],
 "metadata": {
  "kernelspec": {
   "display_name": "R",
   "language": "R",
   "name": "ir"
  },
  "language_info": {
   "codemirror_mode": "r",
   "file_extension": ".r",
   "mimetype": "text/x-r-source",
   "name": "R",
   "pygments_lexer": "r",
   "version": "3.6.2"
  }
 },
 "nbformat": 4,
 "nbformat_minor": 4
}
