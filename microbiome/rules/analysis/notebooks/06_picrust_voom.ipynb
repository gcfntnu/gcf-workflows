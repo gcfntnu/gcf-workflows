{
 "cells": [
  {
   "cell_type": "markdown",
   "metadata": {},
   "source": [
    "06.Differential pathway abundance\n",
    "========================================\n",
    " The analysis process includes three main steps, namely normalization, dispersion estimation and test for differential expression.  \n",
    "   \n",
    "   \n",
    "PICRUSt2 (Phylogenetic Investigation of Communities by Reconstruction of Unobserved States) is a software for predicting functional abundances based only on marker gene sequences. Check out the pre-print here https://www.biorxiv.org/content/10.1101/672295v1.\n",
    "\n",
    "\"Function\" usually refers to gene families such as KEGG orthologs and Enzyme Classification numbers, but predictions can be made for any arbitrary trait. Similarly, predictions are typically based on 16S rRNA gene sequencing data, but other marker genes can also be used. Enzyme classification can be summarized into pathway abundances using a pathway database. In this work we use the MetaCyc Metabolic Pathway Database https://metacyc.org/ .\n"
   ]
  },
  {
   "cell_type": "code",
   "execution_count": 12,
   "metadata": {},
   "outputs": [],
   "source": [
    "library(phyloseq)\n",
    "library(ggplot2)\n",
    "library(scales)\n",
    "library(gridExtra)\n",
    "suppressPackageStartupMessages(library(edgeR))\n",
    "library(matrixStats)"
   ]
  },
  {
   "cell_type": "code",
   "execution_count": 3,
   "metadata": {},
   "outputs": [],
   "source": [
    "abundance <- read.table(snakemake@input$abundance, sep=\"\\t\", row.names=1, skip=1, comment.char=\"?\", header=TRUE, check.names=FALSE)\n",
    "abundance <- abundance\n",
    "df <- read.table(snakemake@input$sample_info, sep=\"\\t\", row.names=1, header=TRUE)\n",
    "df <- df[colnames(abundance),]"
   ]
  },
  {
   "cell_type": "code",
   "execution_count": 4,
   "metadata": {},
   "outputs": [],
   "source": [
    "group <- factor(df[,snakemake@params$condition])\n",
    "cat(\"Condition: \", snakemake@params$condition, \"\\n\")\n",
    "cat(\"Summary:\\n\")\n",
    "print(summary(group))\n",
    "if (!is.null(snakemake@params$ref_level)){\n",
    "    cat(\"Setting\", snakemake@params$ref_level, \"as reference level\", \"\\n\")\n",
    "    group <- relevel(group, ref = snakemake@params$ref_level) \n",
    "}\n",
    "df[,\"Sample_Group\"] <- df[,snakemake@params$condition] <- group\n",
    "\n",
    "\n",
    "batch <- NULL\n",
    "if (!is.null(snakemake@params$batch)){\n",
    "    print(cat(\"\\nBatch factor given as: \", snakemake@params$batch, \"\\n\"))\n",
    "    batch <- factor(snakemake@params$batch)\n",
    "    print(summary(batch))\n",
    "    df[,snakemake@params$batch] <- batch\n",
    "}\n",
    "\n",
    "batch <- NULL\n",
    "if (!is.null(snakemake@params$batch)){\n",
    "    print(cat(\"\\nBatch factor given as: \", snakemake@params$batch, \"\\n\"))\n",
    "    batch <- factor(snakemake@params$batch)\n",
    "    print(summary(batch))\n",
    "    df[,snakemake@params$batch] <- batch\n",
    "}\n"
   ]
  },
  {
   "cell_type": "code",
   "execution_count": 6,
   "metadata": {},
   "outputs": [],
   "source": [
    "MODEL = snakemake@config$models[[snakemake@wildcards$model]]"
   ]
  },
  {
   "cell_type": "code",
   "execution_count": 7,
   "metadata": {},
   "outputs": [],
   "source": [
    "subset.ids <- function(X, df, params){\n",
    "    # set defaults if missing params\n",
    "    if (!\"axis\" %in% names(params)) params$axis <- \"column\"\n",
    "    if (!\"name\" %in% names(params)) params$name <- \"Subset\"\n",
    "    if (!params$name %in% colnames(df)) stop(\"params.name not in df\")\n",
    "    if (!\"selection\" %in% names(params)) params$selection <- \"keep\"\n",
    "    if (\"ids\" %in% names(params)){\n",
    "        keep <- colnames(X) %in% params$ids\n",
    "        if (sum(keep) == 0) stop(\"no overlap in subset ids from model.yaml\")\n",
    "    } else{\n",
    "        if (!params$name %in% colnames(df)){\n",
    "            stop(cat(\"missing column:\", params$name, \"in metadata.\"))\n",
    "        } \n",
    "        subset_col <- as.character(df[,params$name])\n",
    "        keep <- subset_col == as.character(params$selection)\n",
    "        if (sum(keep) == 0) stop(paste0(\"no overlap in selection \", params$selection, \": \", params$name))\n",
    "    }\n",
    "    if (params$axis == \"column\"){\n",
    "        X <- X[,keep]\n",
    "    } else{\n",
    "        X <- X[keep,]\n",
    "    }\n",
    "}"
   ]
  },
  {
   "cell_type": "code",
   "execution_count": 8,
   "metadata": {},
   "outputs": [],
   "source": [
    "if (!is.null(MODEL$subsets)){\n",
    "    for (p in MODEL$subsets){\n",
    "        abundance <- subset.ids(abundance, df, p)\n",
    "        df <- droplevels(df[colnames(abundance),])\n",
    "    }\n",
    "}\n"
   ]
  },
  {
   "cell_type": "markdown",
   "metadata": {},
   "source": [
    "Note that this file is not in units of relative abundance (e.g. percent) and is instead the sum of the predicted functional abundance contributed by each ASV multiplied by the abundance (the number of input reads) of each ASV."
   ]
  },
  {
   "cell_type": "code",
   "execution_count": 11,
   "metadata": {},
   "outputs": [],
   "source": [
    " if (utils::packageVersion(\"ggplot2\") >= \"3.3.0\") expand_scale <- expansion\n",
    "barplotTotal <- function(counts, group, col=c(\"lightblue\",\"orange\",\"MediumVioletRed\",\"SpringGreen\"), outfile=TRUE){\n",
    "  if (outfile) png(filename=\"figures/barplotTotal.png\", width=min(3600, 1800+800*ncol(counts)/10), height=1800, res=300)\n",
    "  d <- data.frame(tc=colSums(counts)/1e6, sample=factor(colnames(counts), colnames(counts)), group)\n",
    "  print(ggplot(d, aes(x=.data$sample, y=.data$tc, fill=.data$group)) +\n",
    "          geom_bar(stat=\"identity\", show.legend=TRUE) +\n",
    "          labs(fill=\"\") +\n",
    "          scale_fill_manual(values=col) +\n",
    "          xlab(\"Samples\") + \n",
    "          ylab(\"Total pathway abundance (million)\") +\n",
    "          scale_y_continuous(expand=expand_scale(mult=c(0.01, 0.05))) +\n",
    "          ggtitle(\"Total read abundance per sample (million)\") +\n",
    "          theme(axis.text.x=element_text(angle=90, hjust=1, vjust=0.5)))\n",
    "  if (outfile) dev.off()\n",
    "}"
   ]
  },
  {
   "cell_type": "code",
   "execution_count": 10,
   "metadata": {},
   "outputs": [],
   "source": [
    "barplotTotal(abundance, df$Sample_Group, outfile=FALSE)"
   ]
  },
  {
   "cell_type": "code",
   "execution_count": 43,
   "metadata": {},
   "outputs": [],
   "source": [
    "sds <- rowIQRs(as.matrix(abundance))\n",
    "xmn <- rowMeans(abundance)\n",
    "plot(xmn, sds)"
   ]
  },
  {
   "cell_type": "code",
   "execution_count": 44,
   "metadata": {},
   "outputs": [],
   "source": [
    "sds <- rowIQRs(as.matrix(log2(abundance+1)))\n",
    "xmn <- rowMeans(log2(abundance+1))\n",
    "plot(xmn, sds)"
   ]
  },
  {
   "cell_type": "code",
   "execution_count": null,
   "metadata": {},
   "outputs": [],
   "source": []
  },
  {
   "cell_type": "code",
   "execution_count": 45,
   "metadata": {},
   "outputs": [],
   "source": [
    "countsBoxplots <- function(object, group, col = c(\"lightblue\",\"orange\",\"MediumVioletRed\",\"SpringGreen\"), outfile=TRUE){\n",
    "  if (class(object)==\"DESeqDataSet\"){\n",
    "    counts <- counts(object)\n",
    "    #counts <- removeNull(counts)\n",
    "    norm.counts <- counts(object, normalized=TRUE)\n",
    "    #norm.counts <- removeNull(norm.counts)  \n",
    "  } else{\n",
    "    counts <- object$counts\n",
    "    #counts <- removeNull(counts)\n",
    "    tmm <- object$samples$norm.factors\n",
    "    N <- colSums(object$counts)\n",
    "    f <- tmm * N/mean(tmm * N)\n",
    "    norm.counts <- scale(object$counts, center=FALSE, scale=f)\n",
    "    #norm.counts <- removeNull(norm.counts)    \n",
    "  }\n",
    "\n",
    "  if (outfile) png(filename=\"figures/countsBoxplots.png\", width=2*min(2200, 1800+800*ncol(norm.counts)/10), height=1800, res=300)\n",
    "  d <- stack(as.data.frame(counts))\n",
    "  d$group <- rep(group, each=nrow(counts))\n",
    "  p1 <- ggplot(d) + \n",
    "    geom_boxplot(aes(x=.data$ind, y=.data$values+1, fill=.data$group), show.legend=TRUE) +\n",
    "    labs(fill=\"\") +\n",
    "    scale_y_continuous(trans = log10_trans(),\n",
    "                       breaks = trans_breaks(\"log10\", function(x) 10^x),\n",
    "                       labels = trans_format(\"log10\", math_format(~10^.x))) +\n",
    "    scale_fill_manual(values=col) +\n",
    "    xlab(\"Samples\") +\n",
    "    ylab(\"Raw counts\") +\n",
    "    ggtitle(\"Raw counts distribution\") +\n",
    "    theme(axis.text.x=element_text(angle=90, hjust=1, vjust=0.5))\n",
    "  \n",
    "  d <- stack(as.data.frame(norm.counts))\n",
    "  d$group <- rep(group, each=nrow(norm.counts))\n",
    "  p2 <- ggplot(d) + \n",
    "    geom_boxplot(aes(x=.data$ind, y=.data$values+1, fill=.data$group), show.legend=TRUE) +\n",
    "    labs(fill=\"\") +\n",
    "    scale_y_continuous(trans = log10_trans(),\n",
    "                       breaks = trans_breaks(\"log10\", function(x) 10^x),\n",
    "                       labels = trans_format(\"log10\", math_format(~10^.x))) +\n",
    "    scale_fill_manual(values=col) +\n",
    "    xlab(\"Samples\") +\n",
    "    ylab(\"Normalized counts\") +\n",
    "    ggtitle(\"Normalized counts distribution\") +\n",
    "    theme(axis.text.x=element_text(angle=90, hjust=1, vjust=0.5))\n",
    "  \n",
    "  grid.arrange(p1, p2, nrow=2, ncol=1)\n",
    "  if (outfile) dev.off()\n",
    "    \n",
    "}"
   ]
  },
  {
   "cell_type": "code",
   "execution_count": 46,
   "metadata": {},
   "outputs": [],
   "source": [
    "#countsBoxplots(de, df$Sample_Group, outfile=FALSE)"
   ]
  },
  {
   "cell_type": "code",
   "execution_count": 47,
   "metadata": {},
   "outputs": [],
   "source": [
    "densityPlot <- function(counts, group, col=c(\"lightblue\",\"orange\",\"MediumVioletRed\",\"SpringGreen\"), outfile=TRUE){\n",
    "  if (outfile) png(filename=\"figures/densplot.png\", width=2000, height=1800, res=300)\n",
    "    #counts <- removeNull(counts)\n",
    "    d <- stack(data.frame(counts))\n",
    "    d$group <- rep(group, each=nrow(counts))\n",
    "    print(ggplot(d, aes(x=.data$values+1)) +\n",
    "            stat_density(aes(group=.data$ind, color=.data$group), position=\"identity\", geom=\"line\", show.legend=TRUE) +\n",
    "            scale_x_continuous(trans = log10_trans(),\n",
    "                               breaks = trans_breaks(\"log10\", function(x) 10^x),\n",
    "                               labels = trans_format(\"log10\", math_format(~10^.x))) +\n",
    "            labs(color=\"\") +\n",
    "            scale_colour_manual(values=col) +\n",
    "            xlab(\"Raw counts\") +\n",
    "            ylab(\"Density\") +\n",
    "            ggtitle(\"Density of counts distribution\"))\n",
    "  if (outfile) dev.off()\n",
    "}"
   ]
  },
  {
   "cell_type": "code",
   "execution_count": 48,
   "metadata": {},
   "outputs": [],
   "source": [
    "densityPlot(abundance, df$Sample_Group, outfile=FALSE)"
   ]
  },
  {
   "cell_type": "code",
   "execution_count": 49,
   "metadata": {},
   "outputs": [],
   "source": [
    "majSequences <- function(rds, n=3, group, col=c(\"lightblue\",\"orange\",\"MediumVioletRed\",\"SpringGreen\"), outfile=TRUE){\n",
    "  counts <- as(rds, \"matrix\")\n",
    "  \n",
    "  seqnames <- apply(counts, 2, function(x){x <- sort(x, decreasing=TRUE); names(x)[1:n]})\n",
    "  seqnames <- unique(unlist(as.character(seqnames)))\n",
    "\n",
    "  sum <- apply(counts,2,sum)\n",
    "  counts <- counts[seqnames,]\n",
    "  sum <- matrix(sum,nrow(counts),ncol(counts),byrow=TRUE)\n",
    "  p <- round(100*counts/sum,digits=3)\n",
    "\n",
    "  if (outfile) png(filename=\"figures/majSeq.png\",width=min(3600,1800+800*ncol(counts)/10),height=1800,res=300)\n",
    "    maj <- apply(p, 2, max)\n",
    "    seqname <- rownames(p)[apply(p, 2, which.max)]\n",
    "    #TAX <- data.frame(as(tax_table(rds), \"matrix\"))[seqname,]\n",
    "    #taxname <- as.character(TAX[,taxrank])\n",
    "    #taxname[is.na(taxname)] <- as.character(TAX[is.na(taxname),\"Genus\"])\n",
    "    d <- data.frame(maj=maj, sample=factor(names(maj), levels=names(maj)), group, seqname=seqname)\n",
    "    print(ggplot(d, aes(x=.data$sample, y=.data$maj, fill=.data$group)) +\n",
    "            geom_bar(stat=\"identity\", show.legend=TRUE) +\n",
    "            labs(fill=\"\") +\n",
    "            scale_fill_manual(values=col) +\n",
    "            xlab(\"Samples\") + \n",
    "            ylab(\"Percentage of reads\") +\n",
    "            scale_y_continuous(expand=expand_scale(mult=c(0.01, 0.05))) +\n",
    "            ggtitle(\"Percentage of reads from most expressed pathway\") +\n",
    "            theme(axis.text.x=element_text(angle=90, hjust=1, vjust=0.5)) +\n",
    "            geom_text(aes(y=0.8*maj, label=seqname), color=\"black\", size=2.5, angle=90, fontface=\"bold\"))\n",
    "  if (outfile) dev.off()\n",
    "  \n",
    "  return(invisible(p))\n",
    "}"
   ]
  },
  {
   "cell_type": "code",
   "execution_count": 52,
   "metadata": {},
   "outputs": [],
   "source": [
    "#majSequences(abundance, n=3, df$Sample_Group, outfile=FALSE)"
   ]
  },
  {
   "cell_type": "markdown",
   "metadata": {},
   "source": [
    "----------------------"
   ]
  },
  {
   "cell_type": "code",
   "execution_count": 51,
   "metadata": {},
   "outputs": [],
   "source": [
    "if (!is.null(snakemake@params$block)){\n",
    "    f <- as.formula(paste0(\"~\", snakemake@params$block, \"+\", snakemake@params$condition))\n",
    "    } else {\n",
    "    f <- as.formula(paste0(\"~\", snakemake@params$condition))\n",
    "    }"
   ]
  },
  {
   "cell_type": "code",
   "execution_count": 53,
   "metadata": {},
   "outputs": [],
   "source": [
    "des <- model.matrix(f, data=df)\n",
    "#colnames(des) <- levels(df$Sample_Group)\n",
    "#colnames(des) <- c('HC','PPI','PPI.FGP')\n",
    "v <- voom(abundance, design=des, plot=TRUE)"
   ]
  },
  {
   "cell_type": "code",
   "execution_count": 54,
   "metadata": {},
   "outputs": [],
   "source": [
    "fit <- lmFit(v, design=des)"
   ]
  },
  {
   "cell_type": "code",
   "execution_count": 55,
   "metadata": {},
   "outputs": [],
   "source": [
    "#cmat <- makeContrasts(\"PPI__vs__HC\" = PPI-HC, \"PPI__vs__FGP\"=PPI_FGP - HC, \"PPI__vs__PPI_FGP\"= PPI-PPI_FGP, levels=des)"
   ]
  },
  {
   "cell_type": "code",
   "execution_count": 56,
   "metadata": {},
   "outputs": [],
   "source": [
    "#fit <- contrasts.fit(fit0, cmat)"
   ]
  },
  {
   "cell_type": "code",
   "execution_count": 57,
   "metadata": {},
   "outputs": [],
   "source": [
    "fit2 <- eBayes(fit)"
   ]
  },
  {
   "cell_type": "code",
   "execution_count": 69,
   "metadata": {},
   "outputs": [],
   "source": [
    "complete <- list()\n",
    "coef.names <- colnames(coef(fit2))\n",
    "n.coef <- length(coef.names)\n",
    "n.cond <- nlevels(df[,snakemake@params$condition]) - 2\n",
    "CONTRASTS <- coef.names[(n.coef-n.cond):n.coef]\n",
    "library(stringr)\n",
    "urls <- paste0(\"https://biocyc.org/META/NEW-IMAGE?type=PATHWAY&object=\", rownames(fit2))\n",
    "pth.info <- data.frame(URL=urls)\n",
    "rownames(pth.info) <- rownames(fit2)\n",
    "for (contrast in CONTRASTS){\n",
    "    tab <- topTable(fit2, coef=contrast, genelist=pth.info, sort.by=\"P\", n=Inf)\n",
    "    fn <- file.path(snakemake@output[[1]], paste0(\"voom\", \"_\", contrast, \".txt\"))\n",
    "    dir.create(snakemake@output[[1]], showWarnings=FALSE, recursive=TRUE)\n",
    "    write.table(tab, file=fn, sep=\"\\t\")\n",
    "    complete[[contrast]] <- tab\n",
    "}"
   ]
  },
  {
   "cell_type": "code",
   "execution_count": 63,
   "metadata": {},
   "outputs": [],
   "source": [
    "nDiffTotal <- function(complete, alpha=0.05){\n",
    "  nDiffTotal <- matrix(NA,ncol=4,nrow=length(complete),dimnames=list(names(complete),c(\"Test vs Ref\", \"# down\",\"# up\",\"# total\")))\n",
    "  for (name in names(complete)){\n",
    "    complete.name <- complete[[name]]\n",
    "    if (!is.null(complete.name$padj)) complete.name$padj <- complete.name[,\"adj.P.Val\"]\n",
    "    if (!is.null(complete.name$log2FoldChange)) complete.name$log2FoldChange <- complete.name[,\"logFC\"]\n",
    "    if (!is.null(complete.name$betaConv)){\n",
    "    nDiffTotal[name,2:3]=c(nrow(complete.name[which(complete.name$padj <= alpha & complete.name$betaConv & complete.name$log2FoldChange<=0),]),\n",
    "                             nrow(complete.name[which(complete.name$padj <= alpha & complete.name$betaConv & complete.name$log2FoldChange>=0),]))\n",
    "    } else{\n",
    "        head(complete.name)\n",
    "      nDiffTotal[name,2:3]=c(nrow(complete.name[which(complete.name$padj <= alpha & complete.name$log2FoldChange<=0),]),\n",
    "                             nrow(complete.name[which(complete.name$padj <= alpha & complete.name$log2FoldChange>=0),]))\n",
    "    }\n",
    "      complete[[name]] <- complete.name\n",
    "  }\n",
    "  nDiffTotal[,4] <- nDiffTotal[,2] + nDiffTotal[,3]\n",
    "  nDiffTotal[,1] <- gsub(\"_\",\" \",rownames(nDiffTotal))\n",
    "  rownames(nDiffTotal) <- NULL\n",
    "  return(nDiffTotal)\n",
    "}"
   ]
  },
  {
   "cell_type": "code",
   "execution_count": 64,
   "metadata": {},
   "outputs": [],
   "source": [
    "nDiffTotal(complete)"
   ]
  },
  {
   "cell_type": "code",
   "execution_count": 65,
   "metadata": {},
   "outputs": [],
   "source": [
    "volcanoPlot <- function(complete, alpha=0.05, outfile=TRUE, padjlim=NULL){\n",
    "  ncol <- min(2, length(complete))\n",
    "  nrow <- ceiling(length(complete)/ncol)\n",
    "  if (outfile) png(filename=\"figures/volcanoPlot.png\", width=cairoSizeWrapper(1800*ncol), height=cairoSizeWrapper(1800*nrow), res=300)\n",
    "  p <- list()\n",
    "  for (name in names(complete)){\n",
    "    complete.name <- complete[[name]]\n",
    "    if (!is.null(complete.name$padj)) complete.name$padj <- complete.name[,\"adj.P.Val\"]\n",
    "    if (!is.null(complete.name$log2FoldChange)) complete.name$log2FoldChange <- complete.name[,\"logFC\"]\n",
    "    complete.name$padj[which(complete.name$padj==0)] <- .Machine$double.xmin\n",
    "    complete.name <- complete.name[which(!is.na(complete.name$padj)),]\n",
    "    complete.name$DE <- factor(ifelse(complete.name$padj <= alpha, \"yes\", \"no\"), levels=c(\"no\", \"yes\"))\n",
    "    if (is.null(padjlim)) padjlim.name <- quantile(complete.name$padj, probs=0.01, na.rm=TRUE) else padjlim.name <- padjlim\n",
    "    complete.name$outfield <- factor(ifelse(complete.name$padj < padjlim.name, \"top\", \"in\"), levels=c(\"in\", \"top\"))\n",
    "    complete.name$padj[which(complete.name$padj < padjlim.name)] <- padjlim.name\n",
    "    reverselog_trans <- function(base = exp(1)) {\n",
    "      trans <- function(x) -log(x, base)\n",
    "      inv <- function(x) base^(-x)\n",
    "      trans_new(paste0(\"reverselog-\", format(base)), trans, inv,\n",
    "                log_breaks(base = base),\n",
    "                domain = c(.Machine$double.xmin, Inf))\n",
    "    }\n",
    "    p[[name]] <- ggplot(data=complete.name, \n",
    "                        aes(x=.data$log2FoldChange, y=.data$padj, color=.data$DE, shape=.data$outfield)) +\n",
    "      geom_point(show.legend=FALSE, alpha=0.5) +\n",
    "      scale_y_continuous(trans = reverselog_trans(10),\n",
    "                         breaks = trans_breaks(\"log10\", function(x) 10^x),\n",
    "                         labels = trans_format(\"log10\", math_format(~10^.x))) +\n",
    "      scale_colour_manual(values=c(\"no\"=\"black\", \"yes\"=\"red\"), drop=FALSE) +\n",
    "      scale_shape_manual(values=c(\"in\"=16, \"top\"=17), drop=FALSE) +\n",
    "      xlab(expression(log[2]~fold~change)) +\n",
    "      ylab(\"Adjusted P-value\") +\n",
    "      ggtitle(paste0(\"Volcano plot - \", gsub(\"_\", \" \", name)))\n",
    "  }\n",
    "  tmpfun <- function(...) grid.arrange(..., nrow=nrow, ncol=ncol)\n",
    "  do.call(tmpfun, p)\n",
    "  if (outfile) dev.off()\n",
    "}\n",
    "                         "
   ]
  },
  {
   "cell_type": "code",
   "execution_count": 66,
   "metadata": {},
   "outputs": [],
   "source": [
    "#volcanoPlot(complete, outfile=FALSE)"
   ]
  },
  {
   "cell_type": "code",
   "execution_count": 67,
   "metadata": {},
   "outputs": [],
   "source": [
    "MAPlot <- function(complete, alpha=0.05, outfile=TRUE, log2FClim=NULL){\n",
    "  ncol <- min(2, length(complete))\n",
    "  nrow <- ceiling(length(complete)/ncol)\n",
    "  if (outfile) png(filename=\"figures/MAPlot.png\", width=cairoSizeWrapper(1800*ncol), height=cairoSizeWrapper(1800*nrow), res=300)\n",
    "  p <- list()\n",
    "  for (name in names(complete)){\n",
    "    complete.name <- complete[[name]]\n",
    "    if (!is.null(complete.name$padj)) complete.name$padj <- complete.name[,\"adj.P.Val\"]\n",
    "    if (!is.null(complete.name$log2FoldChange)) complete.name$log2FoldChange <- complete.name[,\"logFC\"]\n",
    "        if (!is.null(complete.name$baseMean)) complete.name$baseMean <- complete.name[,\"AveExpr\"]\n",
    "    if (!is.null(complete.name$log2FoldChange)) complete.name$log2FoldChange <- complete.name[,\"logFC\"]\n",
    "    complete.name <- complete.name[which(complete.name$baseMean>0),]\n",
    "    complete.name$padj <- ifelse(is.na(complete.name$padj), 1, complete.name$padj)\n",
    "    complete.name$DE <- factor(ifelse(complete.name$padj <= alpha, \"yes\", \"no\"), levels=c(\"no\", \"yes\"))\n",
    "    py <- complete.name$log2FoldChange\n",
    "    if (is.null(log2FClim)) ymax <- quantile(abs(py[is.finite(py)]), probs=0.99) else ymax <- log2FClim\n",
    "    complete.name$log2FoldChange[which(py > ymax)] <- ymax\n",
    "    complete.name$log2FoldChange[which(py < -ymax)] <- -ymax\n",
    "    complete.name$outfield <- factor(ifelse(py > ymax, \"top\", ifelse(py < -ymax, \"bottom\", \"in\")), \n",
    "                                     levels=c(\"bottom\", \"in\", \"top\"))\n",
    "    p[[name]] <- ggplot(data=complete.name, \n",
    "                        aes(x=.data$baseMean, y=.data$log2FoldChange, color=.data$DE, fill=.data$DE, shape=.data$outfield)) +\n",
    "      scale_x_continuous(trans = log10_trans(),\n",
    "                         breaks = trans_breaks(\"log10\", function(x) 10^x),\n",
    "                         labels = trans_format(\"log10\", math_format(~10^.x))) +\n",
    "      geom_point(show.legend=FALSE, alpha=0.5, size=0.8) +\n",
    "      scale_colour_manual(values=c(\"no\"=\"black\", \"yes\"=\"red\"), drop=FALSE) +\n",
    "      scale_shape_manual(values=c(\"bottom\"=25, \"in\"=21, \"top\"=24), drop=FALSE) +\n",
    "      scale_fill_manual(values=c(\"no\"=\"black\", \"yes\"=\"red\"), drop=FALSE) +\n",
    "      scale_y_continuous(expand=expand_scale(mult=c(0.03, 0.03))) +\n",
    "      xlab(\"Mean of normalized counts\") +\n",
    "      ylab(expression(log[2]~fold~change)) +\n",
    "      ggtitle(paste0(\"MA-plot - \", gsub(\"_\",\" \",name)))\n",
    "  }\n",
    "  tmpfun <- function(...) grid.arrange(..., nrow=nrow, ncol=ncol)\n",
    "  do.call(tmpfun, p)\n",
    "  if (outfile) dev.off()\n",
    "}"
   ]
  },
  {
   "cell_type": "code",
   "execution_count": 68,
   "metadata": {},
   "outputs": [],
   "source": [
    "#MAPlot(complete, outfile=FALSE)"
   ]
  },
  {
   "cell_type": "code",
   "execution_count": null,
   "metadata": {},
   "outputs": [],
   "source": []
  },
  {
   "cell_type": "code",
   "execution_count": null,
   "metadata": {},
   "outputs": [],
   "source": []
  },
  {
   "cell_type": "code",
   "execution_count": null,
   "metadata": {},
   "outputs": [],
   "source": []
  }
 ],
 "metadata": {
  "kernelspec": {
   "display_name": "R",
   "language": "R",
   "name": "ir"
  },
  "language_info": {
   "codemirror_mode": "r",
   "file_extension": ".r",
   "mimetype": "text/x-r-source",
   "name": "R",
   "pygments_lexer": "r",
   "version": "3.6.2"
  }
 },
 "nbformat": 4,
 "nbformat_minor": 4
}
